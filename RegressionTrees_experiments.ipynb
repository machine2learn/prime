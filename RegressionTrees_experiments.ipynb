{
 "cells": [
  {
   "cell_type": "code",
   "execution_count": 410,
   "metadata": {},
   "outputs": [],
   "source": [
    "import numpy as np\n",
    "import pandas as pd\n",
    "import matplotlib\n",
    "from sklearn.tree import DecisionTreeRegressor, plot_tree\n",
    "from sklearn.ensemble import RandomForestRegressor\n",
    "from sklearn.model_selection import train_test_split\n",
    "from sklearn.model_selection import StratifiedShuffleSplit\n",
    "from sklearn.metrics import mean_absolute_error, mean_squared_error, r2_score\n",
    "from xgboost import XGBRegressor\n",
    "import matplotlib.pyplot as plt\n",
    "import matplotlib.colors as mcolors\n",
    "import copy\n",
    "import os\n",
    "import re\n",
    "import shutil\n",
    "\n",
    "from sklearn.linear_model import LinearRegression\n",
    "from sklearn.preprocessing import StandardScaler\n",
    "\n",
    "from sklearn.metrics import mean_absolute_error, mean_squared_error, r2_score\n",
    "\n",
    "from sklearn.tree import export_graphviz\n",
    "import graphviz\n",
    "\n",
    "%matplotlib inline\n",
    "matplotlib.use('module://ipykernel.pylab.backend_inline')\n",
    "\n",
    "# RANDOM_STATE = 25 \n",
    "# 43: 0.04, -0.015\n",
    "RANDOM_STATE_SPLIT = 3\n",
    "RANDOM_STATE_REGR = 13\n",
    "\n",
    "# TODO: try speed!!"
   ]
  },
  {
   "cell_type": "code",
   "execution_count": 411,
   "metadata": {},
   "outputs": [],
   "source": [
    "n_samples =None\n",
    "memory_experiment = None\n",
    "remove_na = True\n",
    "simple_lm_prior = True\n",
    "\n",
    "second_visit = 1\n",
    "gender = None\n",
    "iqr_coefficient = None # if None then no standrat removal of outliers\n",
    "# outcome = f\"z_global_change.0.{second_visit}\"\n",
    "# outcome = f\"z_change_snap_game_true_pos_rt_avrg.0.{second_visit}\"\n",
    "# outcome =f\"z_change_log_pairs_matching_sum_incorrect.0.{second_visit}\"\n",
    "\n",
    "\n",
    "# outcome = f\"z_change_num_memory_max_digits_remembered_correctly.0.{second_visit}\"\n",
    "\n",
    "# for snap game it is better to take quad baseline\n",
    "# for pm it is better to keep log baseline as predictor\n",
    "focus_experiment = \"snap_game_true_pos_rt_avrg\" \n",
    "\n",
    "outcome = f\"{focus_experiment}.change.0.{second_visit}\"\n",
    "weight = -1\n",
    "\n",
    " \n",
    "interactions_sg_change = [[f\"{focus_experiment}.0\", f\"log_time_difference.0.{second_visit}\"],[f\"quadr_{focus_experiment}.0\", f\"log_time_difference.0.{second_visit}\"]]\n",
    "# interactions = interactions_sg_change\n",
    "interactions = []\n",
    "\n",
    "input_file = f\"/projects/prime/ukbb/results_2024/all_cogn_0_{second_visit}_28_07/data_with_na.csv\"\n",
    "output_dir =f\"/projects/prime/ukbb/results_2024/all_cogn_0_{second_visit}_28_07/regressor_{outcome}\"\n",
    "\n",
    "if gender is None:\n",
    "  output_dir = f\"{output_dir}/\"\n",
    "else:\n",
    "  output_dir = f\"{output_dir}_gender_{gender}/\"\n",
    "if not os.path.exists(output_dir):\n",
    "  os.makedirs(output_dir)\n",
    "\n"
   ]
  },
  {
   "cell_type": "code",
   "execution_count": 412,
   "metadata": {},
   "outputs": [],
   "source": [
    "def my_stratification(df_, fld_name, quantiles, lim, global_strat):\n",
    "   \n",
    "    first = False\n",
    "    df_ = df_.assign(**{\"combined_labe_test\": \"\"})\n",
    "    if \"combined_label\" not in df_.columns: \n",
    "        df_ = df_.assign(**{\"combined_label\": \"\"})\n",
    "        first = True\n",
    "    if quantiles is None:\n",
    "        if first:\n",
    "            df_[\"combined_label\"] = df_[fld_name].astype(int).astype(str)\n",
    "            print(fld_name)\n",
    "        else:\n",
    "            df_[\"combined_label_test\"] = df_[\"combined_label\"]+\"_\"+df_[fld_name].astype(int).astype(str)\n",
    "            values_combined_label_test = df_[\"combined_label_test\"].drop_duplicates().tolist()\n",
    "            \n",
    "            if len(values_combined_label_test) > lim:\n",
    "                df_ = df_.drop(columns=[\"combined_label_test\"], axis=1)\n",
    "                return df_\n",
    "            \n",
    "            enough = True\n",
    "            \n",
    "            for i in range(len(values_combined_label_test)):\n",
    "                lab_val = values_combined_label_test[i]\n",
    "                df_tmp = df_[df_[\"combined_label_test\"].eq(lab_val)]\n",
    "                if len(df_tmp) < 2:\n",
    "                    # will merge this and next one some we will have more values in the extended bin\n",
    "                    if i< len(values_combined_label_test) - 1:\n",
    "                        df_.loc[df_[\"combined_label_test\"].eq(lab_val), \"combined_label_test\"] = values_combined_label_test[i+1]\n",
    "                    else:\n",
    "                        # try merge with the previous\n",
    "                        if i>0:\n",
    "                            df_.loc[df_[\"combined_label_test\"].eq(lab_val), \"combined_label_test\"] = values_combined_label_test[i-1]\n",
    "                            df_tmp = df_[df_[\"combined_label_test\"].eq(values_combined_label_test[i-1])]\n",
    "                            if len(df_tmp) < 2:\n",
    "                                enough = False\n",
    "                                break\n",
    "                            else:\n",
    "                                values_combined_label_test[i] = values_combined_label_test[i-1]\n",
    "                        else:\n",
    "                            enough = False\n",
    "                            break\n",
    "                             \n",
    "                        \n",
    "                    \n",
    "            if enough:\n",
    "                df_[\"combined_label\"] = df_[\"combined_label_test\"]\n",
    "                print(fld_name)\n",
    "            \n",
    "            df_ = df_.drop(columns=[\"combined_label_test\"], axis=1)\n",
    "                \n",
    "    else: # quantiles\n",
    "        df_ = df_.assign(**{\"tmp\": 0})\n",
    "         \n",
    "        if global_strat:\n",
    "            qw =np.zeros(len(quantiles))\n",
    "            for i in range(len(quantiles)):\n",
    "                qw[i] = df_[fld_name].quantile(quantiles[i])\n",
    "                \n",
    "            df_.loc[df_[fld_name].le(qw[0]), \"tmp\"] = 1\n",
    "            for i in range(1, len(quantiles)):\n",
    "                df_.loc[df_[fld_name].gt(qw[i-1])& df_[fld_name].le(qw[i]), \"tmp\"] = i+1\n",
    "            \n",
    "        else: # local qunatile per per bin\n",
    "            values_combined_label = df_[\"combined_label\"].drop_duplicates().tolist()\n",
    "            for lab_val in values_combined_label:\n",
    "                df_tmp = df_[df_[\"combined_label\"].eq(lab_val)]\n",
    "                qw = np.zeros(len(quantiles))\n",
    "                for i in range(len(quantiles)):\n",
    "                    qw[i] = df_tmp[fld_name].quantile(quantiles[i])\n",
    "                \n",
    "                df_.loc[df_[\"combined_label\"].eq(lab_val) & df_[fld_name].le(qw[0]), \"tmp\"] = 1\n",
    "                for i in range(1, len(quantiles)):\n",
    "                    df_.loc[df_[\"combined_label\"].eq(lab_val) & df_[fld_name].gt(qw[i-1])& df_[fld_name].le(qw[i]), \"tmp\"] = i+1\n",
    "        \n",
    "        if first:\n",
    "            df_[\"combined_label_test\"] = df_[\"tmp\"].astype(str)\n",
    "        else:\n",
    "            df_[\"combined_label_test\"] = df_[\"combined_label\"]+\"_\"+df_[\"tmp\"].astype(str)\n",
    "        df_ = df_.drop(columns=[\"tmp\"], axis=1)\n",
    "        values_combined_label_test = df_[\"combined_label_test\"].drop_duplicates().tolist()\n",
    "        \n",
    "        if len(values_combined_label_test) > lim: # the number of classes exceeds the number of test points\n",
    "            df_ = df_.drop(columns=[\"combined_label_test\"], axis=1)\n",
    "            return df_\n",
    "        \n",
    "        enough = True\n",
    "        \n",
    "        for i in range(len(values_combined_label_test)):\n",
    "            lab_val = values_combined_label_test[i]\n",
    "            df_tmp = df_[df_[\"combined_label_test\"].eq(lab_val)]\n",
    "            if len(df_tmp) < 2:\n",
    "                # will merge this and next one some we will have more values in the extended bin\n",
    "                if i< len(values_combined_label_test) - 1:\n",
    "                    df_.loc[df_[\"combined_label_test\"].eq(lab_val), \"combined_label_test\"] = values_combined_label_test[i+1]\n",
    "                else:\n",
    "                    # try merge with the previous\n",
    "                    if i>0:\n",
    "                        df_.loc[df_[\"combined_label_test\"].eq(lab_val), \"combined_label_test\"] = values_combined_label_test[i-1]\n",
    "                        df_tmp = df_[df_[\"combined_label_test\"].eq(values_combined_label_test[i-1])]\n",
    "                        if len(df_tmp) < 2:\n",
    "                            enough = False\n",
    "                            break\n",
    "                        else:\n",
    "                            values_combined_label_test[i] = values_combined_label_test[i-1]\n",
    "                    else:\n",
    "                        enough = False\n",
    "                        break\n",
    "                            \n",
    "            \n",
    "        if enough:\n",
    "            print(fld_name)\n",
    "            df_[\"combined_label\"] = df_[\"combined_label_test\"]\n",
    "       \n",
    "        df_ = df_.drop(columns=[\"combined_label_test\"], axis=1)\n",
    "    return df_\n",
    "            \n",
    "        "
   ]
  },
  {
   "cell_type": "code",
   "execution_count": 413,
   "metadata": {},
   "outputs": [],
   "source": [
    "# function for removing outliers via iqr approach\n",
    "def remove_outliers_iqr(df_, iqr_cf,  outliers):\n",
    "    print(f\"# data points before removing outliers: {len(df_)}\")\n",
    "    if iqr_cf is not None:\n",
    "        \n",
    "        lower_bound = {}\n",
    "        upper_bound = {}\n",
    "        \n",
    "        for feat  in outliers:\n",
    "            print(f\"{feat}\")\n",
    "            \n",
    "            Q1 = df_[feat].quantile(0.25)\n",
    "            Q3 = df_[feat].quantile(0.75)\n",
    "            \n",
    "            IQR = Q3-Q1\n",
    "            lower_bound[feat] = Q1 - iqr_cf * IQR\n",
    "            upper_bound[feat] = Q3 + iqr_cf * IQR\n",
    "            \n",
    "            \n",
    "            \n",
    "        for feat in lower_bound:\n",
    "            df_= df_[(df_[feat] >= lower_bound[feat]) & (df_[feat] <= upper_bound[feat])]\n",
    "            \n",
    "        print(f\"# data points after removing outliers: {len(df_)}\")\n",
    "    return(df_)"
   ]
  },
  {
   "cell_type": "code",
   "execution_count": 414,
   "metadata": {},
   "outputs": [],
   "source": [
    "\n",
    "simple_predictors = [f\"log_time_difference.0.{second_visit}\", \"age_years.0\", \"gender.0\", \"education_level.0\",\n",
    "                     f\"quadr_{focus_experiment}.0\"]\n",
    "\n"
   ]
  },
  {
   "cell_type": "code",
   "execution_count": 415,
   "metadata": {},
   "outputs": [],
   "source": [
    "risk_factors = [\"Syst_bp.0\", \"Diast_bp.0\", \"ldl_conv.0\", \"hdl_conv.0\", \"Triglycerides_conv.0\", \"HbA1c_conv.0\",  \"Albumin.0\", \n",
    "  \"Leukocyte_count.0\", \"C_reactive_protein.0\"]\n",
    "metrics =[\"MET_score.0\", \"bmi_kg_m2.0\", \"waist_cm.0\"]\n",
    "diet = [\"oily_fish_gpday_bradbury.0\", \"white_fish_gpday_bradbury.0\", \n",
    "   \"red_meat_bradbury_gpd.0\", \"poultry_gpday_bradbury.0\",\n",
    "   \"processed_meat_gpday_bradbury.0\", \"veg_gpday_bradbury.0\",\n",
    "   \"fruit_gpday_bradbury.0\",\n",
    "    \"cereals_gpday_bradbury.0\", \"bread_gpday_bradbury.0\", \"cheese_gpday_bradbury.0\",\n",
    "    \"milk_gpday_bradbury.0\", \"tea_gpday_bradbury.0\"]\n",
    "diagnoses = [ \"Diabetes_2.0\",  \"Dyslipidemia.0\", \"Depression.0\", \"Hypertension.0\"]\n",
    "alc_drinks = [ \"red_wine_gpd.0\", \"white_wine_gpd.0\", \"fortified_gpd.0\", \"beer_cider_gpd.0\", \"spirits_gpd.0\"]\n",
    "others_cat =[\"marital_status.0\", \"pp_smoke_catgeory.0\"]\n",
    "medications = [\"aspirin.0\",  \"anxiety_tr.0\", \"pain_tr.0\", \"TAZD_Thiazide.0\",  \n",
    "   \"loop_diuretics.0\",  \"potassium_diuretics.0\", \"beta_blockers.0\", \"calcium_antagonists.0\", \n",
    "   \"ARA_II_Antagonists_of_angiotensin_II_receptors.0\", \"IECA_Angiotensin_converting_enzyme_inhibitors.0\",\n",
    "   \"Other_Hypotensive.0\",\"hypochol_statins.0\", \"hypochol_others.0\", \"insulin.0\", \"sulfonylurea.0\", \"thiazolidinediones.0\", \n",
    "   \"non_sulfonylurea_insulin_secretagogues.0\", \"metformin_category.0\", \"vitamins_minerals.0\"]"
   ]
  },
  {
   "cell_type": "code",
   "execution_count": 416,
   "metadata": {},
   "outputs": [],
   "source": [
    "predictors = simple_predictors + metrics +diet + alc_drinks +risk_factors +  others_cat +diagnoses + medications"
   ]
  },
  {
   "cell_type": "code",
   "execution_count": 417,
   "metadata": {},
   "outputs": [
    {
     "data": {
      "text/plain": [
       "'predictors = [\"gender.0\", f\"log_time_difference.0.{second_visit}\", \\n              \"Diabetes_2.0\",  \"Dyslipidemia.0\", \"Depression.0\", \"Hypertension.0\", \\n  \"age_years.0\", \"education_level.0\", \"marital_status.0\", \"pp_smoke_catgeory.0\", \"log_MET_score.0\", \"log_waist_cm.0\",  \"log_bmi_kg_m2.0\", \\n  \"Syst_bp.0\", \"Diast_bp.0\", \"log_ldl_conv.0\", \"log_hdl_conv.0\", \"log_Triglycerides_conv.0\", \"log_HbA1c_conv.0\",  \"log_Pl_glucose_conv.0\",   \"log_Albumin.0\", \\n  \"log_Leukocyte_count.0\", \"log_C_reactive_protein.0\",\\n   \"log_oily_fish_gpday_bradbury.0\", \"log_white_fish_gpday_bradbury.0\", \\n   \"log_red_meat_bradbury_gpd.0\", \"log_poultry_gpday_bradbury.0\",\\n   \"log_processed_meat_gpday_bradbury.0\", \"log_veg_gpday_bradbury.0\",\\n   \"log_fruit_gpday_bradbury.0\",\\n    \"log_cereals_gpday_bradbury.0\", \"log_bread_gpday_bradbury.0\", \"log_cheese_gpday_bradbury.0\",\\n    \"log_milk_gpday_bradbury.0\", \"log_tea_gpday_bradbury.0\",\\n    \"log_red_wine_gpd.0\", \"log_white_wine_gpd.0\", \"log_fortified_gpd.0\", \"log_beer_cider_gpd.0\", \"log_spirits_gpd.0\",\\n   \"aspirin.0\",  \"anxiety_tr.0\", \"pain_tr.0\", \"TAZD_Thiazide.0\",  \\n   \"loop_diuretics.0\",  \"potassium_diuretics.0\", \"beta_blockers.0\", \"calcium_antagonists.0\", \\n   \"ARA_II_Antagonists_of_angiotensin_II_receptors.0\", \"IECA_Angiotensin_converting_enzyme_inhibitors.0\",\\n   \"Other_Hypotensive.0\",\"hypochol_statins.0\", \"hypochol_others.0\", \"insulin.0\", \"sulfonylurea.0\", \"thiazolidinediones.0\", \"non_sulfonylurea_insulin_secretagogues.0\", \"metformin_category.0\", \"vitamins_minerals.0\"]'"
      ]
     },
     "execution_count": 417,
     "metadata": {},
     "output_type": "execute_result"
    }
   ],
   "source": [
    "# 900, 5  log\n",
    "'''predictors = [\"gender.0\", f\"log_time_difference.0.{second_visit}\", \n",
    "              \"Diabetes_2.0\",  \"Dyslipidemia.0\", \"Depression.0\", \"Hypertension.0\", \n",
    "  \"age_years.0\", \"education_level.0\", \"marital_status.0\", \"pp_smoke_catgeory.0\", \"log_MET_score.0\", \"log_waist_cm.0\",  \"log_bmi_kg_m2.0\", \n",
    "  \"Syst_bp.0\", \"Diast_bp.0\", \"log_ldl_conv.0\", \"log_hdl_conv.0\", \"log_Triglycerides_conv.0\", \"log_HbA1c_conv.0\",  \"log_Pl_glucose_conv.0\",   \"log_Albumin.0\", \n",
    "  \"log_Leukocyte_count.0\", \"log_C_reactive_protein.0\",\n",
    "   \"log_oily_fish_gpday_bradbury.0\", \"log_white_fish_gpday_bradbury.0\", \n",
    "   \"log_red_meat_bradbury_gpd.0\", \"log_poultry_gpday_bradbury.0\",\n",
    "   \"log_processed_meat_gpday_bradbury.0\", \"log_veg_gpday_bradbury.0\",\n",
    "   \"log_fruit_gpday_bradbury.0\",\n",
    "    \"log_cereals_gpday_bradbury.0\", \"log_bread_gpday_bradbury.0\", \"log_cheese_gpday_bradbury.0\",\n",
    "    \"log_milk_gpday_bradbury.0\", \"log_tea_gpday_bradbury.0\",\n",
    "    \"log_red_wine_gpd.0\", \"log_white_wine_gpd.0\", \"log_fortified_gpd.0\", \"log_beer_cider_gpd.0\", \"log_spirits_gpd.0\",\n",
    "   \"aspirin.0\",  \"anxiety_tr.0\", \"pain_tr.0\", \"TAZD_Thiazide.0\",  \n",
    "   \"loop_diuretics.0\",  \"potassium_diuretics.0\", \"beta_blockers.0\", \"calcium_antagonists.0\", \n",
    "   \"ARA_II_Antagonists_of_angiotensin_II_receptors.0\", \"IECA_Angiotensin_converting_enzyme_inhibitors.0\",\n",
    "   \"Other_Hypotensive.0\",\"hypochol_statins.0\", \"hypochol_others.0\", \"insulin.0\", \"sulfonylurea.0\", \"thiazolidinediones.0\", \"non_sulfonylurea_insulin_secretagogues.0\", \"metformin_category.0\", \"vitamins_minerals.0\"]'''"
   ]
  },
  {
   "cell_type": "code",
   "execution_count": 418,
   "metadata": {},
   "outputs": [],
   "source": [
    "cat_predictors = [\"gender.0\", \"education_level.0\", \"marital_status.0\", \"pp_smoke_catgeory.0\", \"Diabetes_2.0\",  \n",
    "                  \"Dyslipidemia.0\", \"Depression.0\", \"Hypertension.0\", \n",
    "    \"aspirin.0\",  \"anxiety_tr.0\", \"pain_tr.0\", \"TAZD_Thiazide.0\",  \n",
    "   \"loop_diuretics.0\",  \"potassium_diuretics.0\", \"beta_blockers.0\", \"calcium_antagonists.0\", \n",
    "   \"ARA_II_Antagonists_of_angiotensin_II_receptors.0\", \"IECA_Angiotensin_converting_enzyme_inhibitors.0\",\n",
    "   \"Other_Hypotensive.0\",\"hypochol_statins.0\", \"hypochol_others.0\", \"insulin.0\", \"sulfonylurea.0\", \"thiazolidinediones.0\", \n",
    "   \"non_sulfonylurea_insulin_secretagogues.0\", \"metformin_category.0\", \"vitamins_minerals.0\",  \"learning_effect_prior.2\"]"
   ]
  },
  {
   "cell_type": "code",
   "execution_count": 419,
   "metadata": {},
   "outputs": [],
   "source": [
    "df = pd.read_table(input_file, nrows=n_samples,sep =\",\")\n",
    "df = df[predictors+[outcome]]\n"
   ]
  },
  {
   "cell_type": "code",
   "execution_count": 420,
   "metadata": {},
   "outputs": [
    {
     "name": "stdout",
     "output_type": "stream",
     "text": [
      "data set 502204 rows\n",
      "cleaned check up db has 4225 rows\n"
     ]
    }
   ],
   "source": [
    "print(f\"data set {len(df)} rows\")\n",
    "if remove_na:\n",
    "    df = df.dropna(axis=\"rows\")\n",
    "    print(f\"cleaned check up db has {len(df)} rows\")\n"
   ]
  },
  {
   "cell_type": "code",
   "execution_count": 421,
   "metadata": {},
   "outputs": [
    {
     "name": "stdout",
     "output_type": "stream",
     "text": [
      "# data points before removing outliers: 4225\n"
     ]
    }
   ],
   "source": [
    " \n",
    "if gender is not None:\n",
    "   df = df[df[\"gender.0\"].eq(gender) ]\n",
    "   predictors.remove(\"gender.0\")\n",
    "   df = df.drop(columns=[\"gender.0\"], axis=1)\n",
    "       \n",
    "df = remove_outliers_iqr(df, iqr_coefficient, df.columns) "
   ]
  },
  {
   "cell_type": "code",
   "execution_count": 422,
   "metadata": {},
   "outputs": [],
   "source": [
    "for clmn in df.columns:\n",
    "    if \"num_mem\" in clmn:\n",
    "        print(clmn)"
   ]
  },
  {
   "cell_type": "code",
   "execution_count": 423,
   "metadata": {},
   "outputs": [],
   "source": [
    "assign_ ={}   \n",
    "    \n",
    "for interaction in interactions:\n",
    "    clmn = f\"{interaction[0]}x{interaction[1]}\"\n",
    "    assign_[clmn] = df[interaction[0]] * df[interaction[1]] \n",
    "    \n",
    "df = df.assign(**assign_)"
   ]
  },
  {
   "cell_type": "code",
   "execution_count": 424,
   "metadata": {},
   "outputs": [],
   "source": [
    "features = [x for x in df.columns if x not in [outcome]]\n",
    "# features = [x for x in df.columns if x not in outcome]"
   ]
  },
  {
   "cell_type": "code",
   "execution_count": 425,
   "metadata": {},
   "outputs": [
    {
     "name": "stdout",
     "output_type": "stream",
     "text": [
      "['log_time_difference.0.1', 'age_years.0', 'gender.0', 'education_level.0', 'snap_game_true_pos_rt_avrg.0', 'MET_score.0', 'bmi_kg_m2.0', 'waist_cm.0', 'oily_fish_gpday_bradbury.0', 'white_fish_gpday_bradbury.0', 'red_meat_bradbury_gpd.0', 'poultry_gpday_bradbury.0', 'processed_meat_gpday_bradbury.0', 'veg_gpday_bradbury.0', 'fruit_gpday_bradbury.0', 'cereals_gpday_bradbury.0', 'bread_gpday_bradbury.0', 'cheese_gpday_bradbury.0', 'milk_gpday_bradbury.0', 'tea_gpday_bradbury.0', 'red_wine_gpd.0', 'white_wine_gpd.0', 'fortified_gpd.0', 'beer_cider_gpd.0', 'spirits_gpd.0', 'Syst_bp.0', 'Diast_bp.0', 'ldl_conv.0', 'hdl_conv.0', 'Triglycerides_conv.0', 'HbA1c_conv.0', 'Albumin.0', 'Leukocyte_count.0', 'C_reactive_protein.0', 'marital_status.0', 'pp_smoke_catgeory.0', 'Diabetes_2.0', 'Dyslipidemia.0', 'Depression.0', 'Hypertension.0', 'aspirin.0', 'anxiety_tr.0', 'pain_tr.0', 'TAZD_Thiazide.0', 'loop_diuretics.0', 'potassium_diuretics.0', 'beta_blockers.0', 'calcium_antagonists.0', 'ARA_II_Antagonists_of_angiotensin_II_receptors.0', 'IECA_Angiotensin_converting_enzyme_inhibitors.0', 'Other_Hypotensive.0', 'hypochol_statins.0', 'hypochol_others.0', 'insulin.0', 'sulfonylurea.0', 'thiazolidinediones.0', 'non_sulfonylurea_insulin_secretagogues.0', 'metformin_category.0', 'vitamins_minerals.0']\n"
     ]
    }
   ],
   "source": [
    "print(features)\n",
    "df = df.reset_index()"
   ]
  },
  {
   "cell_type": "code",
   "execution_count": 426,
   "metadata": {},
   "outputs": [
    {
     "data": {
      "text/plain": [
       "'\\nl = len(\\'quan_\\')\\ndf[\\'strata_key\\'] = df[\"gender.0\"].astype(int).astype(str) \\nfor cat_feat in cat_predictors:\\n    if cat_feat == \"gender.0\":\\n        continue\\n    if \"quan_\" in cat_feat:\\n        pure_feat = cat_feat[l:]\\n        df[cat_feat] = pd.qcut(df[pure_feat], q=2, labels=[1,2])\\n    \\n    tmp  = df[\\'strata_key\\'] + \"_\" + df[cat_feat].astype(int).astype(str)\\n    # check that eacj class has 2 elements and if yes, then add to stratification\\n    df[\\'strata_key\\'] = tmp\\n\\nstratify_key = df[\\'strata_key\\']\\nprint(stratify_key)\\n'"
      ]
     },
     "execution_count": 426,
     "metadata": {},
     "output_type": "execute_result"
    }
   ],
   "source": [
    "# X_train, X_val, y_train, y_val = train_test_split(df[features], df[outcome], train_size = 0.7, random_state = RANDOM_STATE_SPLIT)\n",
    "'''\n",
    "l = len('quan_')\n",
    "df['strata_key'] = df[\"gender.0\"].astype(int).astype(str) \n",
    "for cat_feat in cat_predictors:\n",
    "    if cat_feat == \"gender.0\":\n",
    "        continue\n",
    "    if \"quan_\" in cat_feat:\n",
    "        pure_feat = cat_feat[l:]\n",
    "        df[cat_feat] = pd.qcut(df[pure_feat], q=2, labels=[1,2])\n",
    "    \n",
    "    tmp  = df['strata_key'] + \"_\" + df[cat_feat].astype(int).astype(str)\n",
    "    # check that eacj class has 2 elements and if yes, then add to stratification\n",
    "    df['strata_key'] = tmp\n",
    "\n",
    "stratify_key = df['strata_key']\n",
    "print(stratify_key)\n",
    "'''"
   ]
  },
  {
   "cell_type": "code",
   "execution_count": 427,
   "metadata": {},
   "outputs": [
    {
     "name": "stdout",
     "output_type": "stream",
     "text": [
      "log_time_difference.0.1\n",
      "age_years.0\n",
      "gender.0\n",
      "education_level.0\n",
      "snap_game_true_pos_rt_avrg.0\n",
      "milk_gpday_bradbury.0\n",
      "fortified_gpd.0\n",
      "marital_status.0\n",
      "Diabetes_2.0\n",
      "anxiety_tr.0\n",
      "loop_diuretics.0\n",
      "potassium_diuretics.0\n",
      "calcium_antagonists.0\n",
      "ARA_II_Antagonists_of_angiotensin_II_receptors.0\n",
      "Other_Hypotensive.0\n",
      "hypochol_others.0\n",
      "insulin.0\n",
      "sulfonylurea.0\n",
      "thiazolidinediones.0\n",
      "non_sulfonylurea_insulin_secretagogues.0\n",
      "metformin_category.0\n"
     ]
    }
   ],
   "source": [
    "vars = features\n",
    "percentage_test = 0.25\n",
    "lim_ = percentage_test * len(df)\n",
    "global_stratification = True\n",
    "\n",
    "quantiles = [0.2, 0.4, 0.6, 0.8, 1]\n",
    "for clmn in vars:\n",
    "   \n",
    "    if clmn in cat_predictors:\n",
    "        df = my_stratification(df, clmn, None, lim_, global_stratification)\n",
    "    else:\n",
    "        df = my_stratification(df, clmn, quantiles, lim_, global_stratification)\n",
    "\n",
    "df.to_csv(f\"{output_dir}/labelled_strata_global_{global_stratification}.csv\")"
   ]
  },
  {
   "cell_type": "code",
   "execution_count": 428,
   "metadata": {},
   "outputs": [
    {
     "name": "stdout",
     "output_type": "stream",
     "text": [
      "['3_4_1_3_3_1_1_1_0_0_0_0_0_0_0_0_0_0_0_0_0', '5_1_1_1_4_1_1_1_0_0_0_0_0_0_0_0_0_0_0_0_0', '1_3_1_3_5_1_1_1_0_0_0_0_0_0_0_0_0_0_0_0_0', '2_3_0_1_2_3_1_1_0_0_0_0_0_0_0_0_0_0_0_0_0', '1_5_0_3_2_3_1_1_0_0_0_0_0_0_0_0_0_0_0_0_0', '2_4_1_1_5_1_1_1_0_0_0_0_0_0_0_0_0_0_0_0_0', '1_3_0_3_2_3_1_1_0_0_0_0_0_0_0_0_0_0_0_0_0', '1_2_0_3_1_3_1_1_0_0_0_0_0_0_0_0_0_0_0_0_0', '3_4_1_2_5_1_5_1_0_0_0_0_0_0_0_0_0_0_0_0_0', '5_1_1_1_2_1_1_1_0_0_0_0_0_0_0_0_0_0_0_0_0', '1_3_0_3_1_3_1_1_0_0_0_0_0_0_0_0_0_0_0_0_0', '1_3_0_3_3_3_1_1_0_0_0_0_0_0_0_0_0_0_0_0_0', '2_3_0_2_4_3_1_1_0_0_0_0_0_0_0_0_0_0_0_0_0', '2_1_0_1_2_3_1_1_0_0_0_0_0_0_0_0_0_0_0_0_0', '2_5_0_2_4_3_1_1_0_0_0_0_0_0_0_0_0_0_0_0_0', '1_4_1_3_2_1_5_1_0_0_0_0_0_0_0_0_0_0_0_0_0', '1_1_0_1_1_3_5_1_0_0_0_0_0_0_0_0_0_0_0_0_0', '1_3_0_3_4_3_1_1_0_0_0_0_0_0_0_0_0_0_0_0_0', '1_3_0_3_1_3_5_1_0_0_0_0_0_0_0_0_0_0_0_0_0', '2_5_0_3_4_3_1_1_0_0_0_0_0_0_0_0_0_0_0_0_0', '2_5_1_3_1_1_1_1_0_0_0_0_0_0_0_0_0_0_0_0_0', '1_3_0_3_5_3_1_1_0_0_0_0_0_0_0_0_0_0_0_0_0', '2_1_0_3_2_3_1_1_0_0_0_0_0_0_0_0_0_0_0_0_0', '2_2_1_3_5_1_1_1_0_0_0_0_0_0_0_0_0_0_0_0_0', '3_5_1_3_5_1_1_1_0_0_0_0_0_0_0_0_0_0_0_0_0', '3_1_1_3_2_1_1_1_0_0_0_0_0_0_0_0_0_0_0_0_0', '3_3_1_2_4_1_1_1_0_0_0_0_0_0_0_0_0_0_0_0_0', '3_1_0_1_3_3_1_1_0_0_0_0_0_0_0_0_0_0_0_0_0', '5_2_0_3_1_3_1_1_0_0_0_0_0_0_0_0_0_0_0_0_0', '3_4_1_3_4_1_5_1_0_0_0_0_0_0_0_0_0_0_0_0_0', '3_5_0_3_4_3_1_1_0_0_0_0_0_0_0_0_0_0_0_0_0', '1_4_0_3_3_3_1_1_0_0_0_0_0_0_0_0_0_0_0_0_0', '2_3_1_3_2_1_1_1_0_0_0_0_0_0_0_0_0_0_0_0_0', '5_2_1_3_4_1_1_1_0_0_0_0_0_0_0_0_0_0_0_0_0', '2_3_0_3_4_3_1_1_0_0_0_0_0_0_0_0_0_0_0_0_0', '1_5_1_3_5_1_1_1_0_0_0_0_0_0_0_0_0_0_0_0_0', '1_5_1_3_4_1_1_1_0_0_0_0_0_0_0_0_0_0_0_0_0', '3_1_0_3_1_3_1_1_0_0_0_0_0_0_0_0_0_0_0_0_0', '5_1_0_3_3_3_1_1_0_0_0_0_0_0_0_0_0_0_0_0_0', '5_5_0_3_4_3_1_1_0_0_0_0_0_0_0_0_0_0_0_0_0', '1_5_0_3_4_3_1_1_0_0_0_0_0_0_0_0_0_0_0_0_0', '1_1_1_3_1_1_1_1_0_0_0_0_0_0_0_0_0_0_0_0_0', '1_1_1_3_1_1_1_1_0_1_0_0_0_0_0_0_0_0_0_0_0', '2_5_0_3_5_3_1_1_0_0_0_0_0_0_0_0_0_0_0_0_0', '5_3_1_3_5_1_1_1_0_0_0_0_0_0_0_0_0_0_0_0_0', '2_1_1_2_3_1_1_1_0_0_0_0_0_0_0_0_0_0_0_0_0', '2_5_0_3_3_3_1_1_0_0_0_0_0_0_0_0_0_0_0_0_0', '1_1_1_3_5_1_1_1_0_0_0_0_0_0_0_0_0_0_0_0_0', '4_1_1_3_1_1_1_1_0_0_0_0_0_0_0_0_0_0_0_0_0', '4_5_0_3_4_3_1_1_0_0_0_0_0_0_0_0_0_0_0_0_0', '2_4_0_3_1_3_1_1_0_0_0_0_0_0_0_0_0_0_0_0_0', '2_5_0_3_2_3_1_1_0_0_0_0_0_0_0_0_0_0_0_0_0', '5_4_0_3_3_3_1_1_0_0_0_0_0_0_0_0_0_0_0_0_0', '4_5_0_3_1_3_1_1_0_0_0_0_0_0_0_0_0_0_0_0_0', '3_2_0_3_1_3_1_1_0_0_0_0_0_0_0_0_0_0_0_0_0', '1_2_1_2_2_1_1_1_0_0_0_0_0_0_0_0_0_0_0_0_0', '3_4_1_3_4_1_1_1_0_0_0_0_0_0_0_0_0_0_0_0_0', '1_2_1_3_5_1_1_1_0_0_0_0_0_0_0_0_0_0_0_0_0', '4_4_0_3_2_3_1_1_0_0_0_0_0_0_0_0_0_0_0_0_0', '3_5_1_1_3_1_1_1_0_0_0_0_0_0_0_0_0_0_0_0_0', '2_5_0_3_1_3_1_1_0_0_0_0_0_0_0_0_0_0_0_0_0', '2_2_1_3_4_1_1_1_0_0_0_0_0_0_0_0_0_0_0_0_0', '2_2_0_3_1_3_1_1_0_0_0_0_0_1_0_0_0_0_0_0_0', '2_2_0_3_1_3_1_1_0_0_0_0_0_0_0_0_0_0_0_0_0', '3_4_0_1_3_3_1_1_0_0_0_0_0_0_0_0_0_0_0_0_0', '3_3_1_3_2_1_1_1_0_0_0_0_0_0_0_0_0_0_0_0_0', '5_3_1_3_1_1_1_1_0_0_0_0_0_0_0_0_0_0_0_0_0', '5_2_1_3_1_1_1_1_0_0_0_0_0_0_0_0_0_0_0_0_0', '4_1_0_1_3_3_1_1_0_0_0_0_0_0_0_0_0_0_0_0_0', '1_4_0_3_5_3_1_1_0_0_0_0_0_0_0_0_0_0_0_0_0', '3_5_0_3_3_3_1_1_0_0_0_0_0_0_0_0_0_0_0_0_0', '4_5_0_1_5_3_1_0_0_0_0_0_0_0_0_0_0_0_0_0_0', '5_4_0_1_3_3_1_1_0_0_0_0_0_0_0_0_0_0_0_0_0', '5_3_1_1_5_1_1_1_0_0_0_0_0_0_0_0_0_0_0_0_0', '1_4_1_1_5_1_1_1_0_0_0_0_0_0_0_0_0_0_0_0_0', '2_3_1_3_3_1_1_1_0_0_0_0_0_0_0_0_0_0_0_0_0', '5_2_0_3_3_3_1_1_0_0_0_0_0_0_0_0_0_0_0_0_0', '4_2_1_3_2_1_1_1_0_0_0_0_0_0_0_0_0_0_0_0_0', '4_4_0_3_5_3_1_1_0_0_0_0_0_0_0_0_0_0_0_0_0', '3_2_0_3_3_3_1_1_0_0_0_0_0_0_0_0_0_0_0_0_0', '5_1_0_1_2_3_1_1_0_0_0_0_0_0_0_0_0_0_0_0_0', '4_4_1_3_5_1_1_1_0_0_0_0_0_0_0_0_0_0_0_0_0', '3_2_1_3_4_1_1_1_0_0_0_0_0_0_0_0_0_0_0_0_0', '5_4_0_3_2_3_1_1_0_0_0_0_0_0_0_0_0_0_0_0_0', '5_5_1_3_4_1_1_1_0_0_0_0_0_0_0_0_0_0_0_0_0', '4_4_1_1_3_1_1_1_0_0_0_0_0_0_0_0_0_0_0_0_0', '2_4_1_1_2_1_1_1_0_0_0_0_0_0_0_0_0_0_0_0_0', '5_2_0_3_5_3_1_1_0_0_0_0_0_0_0_0_0_0_0_0_0', '5_1_1_3_4_1_1_1_0_0_0_0_0_0_0_0_0_0_0_0_0', '4_2_0_2_1_3_1_1_0_0_0_0_0_0_0_0_0_0_0_0_0', '1_4_1_3_5_1_5_1_0_0_0_0_0_0_0_0_0_0_0_0_0', '3_2_1_2_1_1_1_1_0_0_0_0_0_0_0_0_0_0_0_0_0', '5_5_0_1_1_3_1_1_0_0_0_0_0_0_0_0_0_0_0_0_0', '1_3_1_3_4_1_1_1_0_0_0_0_0_0_0_0_0_0_0_0_0', '3_5_1_2_4_1_1_1_0_0_0_0_0_0_0_0_0_0_0_0_0', '1_5_0_3_3_3_5_1_0_0_0_0_0_0_0_0_0_0_0_0_0', '1_3_1_3_3_1_1_1_0_0_0_0_0_0_0_0_0_0_0_0_0', '1_5_0_1_5_3_1_1_0_0_0_0_0_0_0_0_0_0_0_0_0', '4_2_0_3_4_3_1_1_0_0_0_0_0_0_0_0_0_0_0_0_0', '5_2_1_3_4_1_1_0_0_1_0_0_0_0_0_0_0_0_0_0_0', '5_2_1_1_5_1_1_1_0_0_0_0_0_0_0_0_0_0_0_0_0', '5_4_1_2_5_1_1_1_0_0_0_0_0_0_0_0_0_0_0_0_0', '5_3_0_3_4_3_1_1_0_0_0_0_0_0_0_0_0_0_0_0_0', '5_3_0_3_1_3_1_1_0_0_0_0_0_0_0_0_0_0_0_0_0', '1_2_1_3_4_1_1_1_0_0_0_0_0_0_0_0_0_0_0_0_0', '2_1_1_3_3_1_1_1_0_0_0_0_0_0_0_0_0_0_0_0_0', '1_1_0_2_1_3_1_1_0_0_0_0_0_0_0_0_0_0_0_0_0', '4_2_0_3_2_3_1_1_0_0_0_0_0_0_0_0_0_0_0_0_0', '5_1_1_3_2_1_1_1_0_1_0_0_0_0_0_0_0_0_0_0_0', '3_4_1_3_2_1_1_1_0_0_0_0_0_0_0_0_0_0_0_0_0', '1_2_0_3_5_3_1_1_0_0_0_0_0_0_0_0_0_0_0_0_0', '3_2_0_2_4_3_1_1_0_0_0_0_0_0_0_0_0_0_0_0_0', '4_5_0_1_5_3_1_1_0_0_0_0_0_0_0_0_0_0_0_0_0', '5_5_0_1_3_3_1_1_0_0_0_0_0_0_0_0_0_0_0_0_0', '3_1_0_1_5_3_1_1_0_0_0_0_0_0_0_0_0_0_0_0_0', '1_2_0_2_3_3_1_1_0_0_0_0_0_0_0_0_0_0_0_0_0', '1_4_0_3_4_3_1_1_0_0_0_0_0_0_0_0_0_0_0_0_0', '2_2_1_3_3_1_1_1_0_0_0_0_0_0_0_0_0_0_0_0_0', '4_1_0_2_2_3_1_1_0_0_0_0_0_0_0_0_0_0_0_0_0', '5_5_1_1_2_1_1_1_0_0_0_0_0_0_0_0_0_0_0_0_0', '3_1_0_2_1_3_1_1_0_0_0_0_0_0_0_0_0_0_0_0_0', '2_1_0_3_1_3_1_1_0_0_0_0_0_0_0_0_0_0_0_0_0', '2_3_0_3_3_3_1_1_0_0_0_0_0_0_0_0_0_0_0_0_0', '1_5_1_1_4_1_1_1_0_0_0_0_0_0_0_0_0_0_0_0_0', '4_1_0_3_2_3_1_1_0_0_0_0_0_0_0_0_0_0_0_0_0', '3_5_0_3_2_3_1_1_0_0_0_0_0_0_0_0_0_0_0_0_0', '4_2_1_3_5_1_1_1_0_0_0_0_0_0_0_0_0_0_0_0_0', '2_1_0_3_2_3_5_1_0_0_0_0_0_0_0_0_0_0_0_0_0', '4_3_0_1_5_3_1_1_0_0_0_0_0_0_0_0_0_0_0_0_0', '1_5_0_2_5_3_1_1_0_0_0_0_0_0_0_0_0_0_0_0_0', '5_5_0_3_5_3_5_1_0_0_0_0_0_0_0_0_0_0_0_0_0', '2_4_1_1_1_1_1_1_0_0_0_0_0_0_0_0_0_0_0_0_0', '5_4_0_3_5_3_1_1_0_0_0_0_0_0_0_0_0_0_0_0_0', '5_1_1_3_2_1_1_1_0_0_0_0_0_0_0_0_0_0_0_0_0', '1_4_1_3_1_1_1_1_0_0_0_0_0_0_0_0_0_0_0_0_0', '1_3_1_3_5_1_5_1_0_0_0_0_0_0_0_0_0_0_0_0_0', '2_1_1_3_2_1_1_1_0_0_0_0_0_0_0_0_0_0_0_0_0', '1_1_0_2_4_3_1_0_0_0_0_0_0_0_0_0_0_0_0_0_0', '4_3_1_3_2_1_1_1_0_0_0_0_0_0_0_0_0_0_0_0_0', '4_4_0_3_4_3_1_1_0_0_0_0_0_0_0_0_0_0_0_0_0', '3_2_1_3_3_1_5_1_0_0_0_0_0_0_0_0_0_0_0_0_0', '5_5_0_3_3_3_1_1_0_0_0_0_0_0_0_0_0_0_0_0_0', '1_4_1_3_2_1_1_1_0_0_0_0_0_0_0_0_0_0_0_0_0', '4_4_0_2_4_3_1_1_0_0_0_0_0_0_0_0_0_0_0_0_0', '2_4_0_3_2_3_1_1_0_0_0_0_0_0_0_0_0_0_0_0_0', '2_2_0_3_3_3_1_1_0_0_0_0_0_0_0_0_0_0_0_0_0', '5_1_0_3_4_3_1_1_0_0_0_0_0_0_0_0_0_0_0_0_0', '2_3_0_3_2_3_1_1_0_0_0_0_0_0_0_0_0_0_0_0_0', '2_4_1_3_4_1_1_1_0_0_0_0_0_0_0_0_0_0_0_0_0', '2_1_1_3_4_1_1_1_0_0_0_0_0_0_0_0_0_0_0_0_0', '4_3_1_3_5_1_1_1_0_0_0_0_0_0_0_0_0_0_0_0_0', '5_3_1_2_5_1_1_1_0_0_0_0_0_0_0_0_0_0_0_0_0', '1_5_0_3_4_3_5_1_0_0_0_0_0_0_0_0_0_0_0_0_0', '4_5_1_1_1_1_1_1_0_0_0_0_0_0_0_0_0_0_0_0_0', '5_5_0_3_2_3_1_1_0_0_0_0_0_0_0_0_0_0_0_0_0', '4_3_0_1_4_3_1_1_0_0_0_0_0_0_0_0_0_0_0_0_0', '2_2_1_1_3_1_1_1_0_0_0_0_0_0_0_0_0_0_0_0_0', '2_1_0_3_4_3_1_1_0_0_0_0_0_0_0_0_0_0_0_0_0', '4_4_1_3_3_1_5_1_0_0_0_0_0_0_0_0_0_0_0_0_0', '1_4_1_1_1_1_1_1_0_0_0_0_0_0_0_0_0_0_0_0_0', '2_5_1_3_4_1_1_1_0_0_0_0_0_0_0_0_0_0_0_0_0', '4_1_1_1_4_1_1_1_0_0_0_0_0_0_0_0_0_0_0_0_0', '1_2_0_3_2_3_1_1_0_0_0_0_0_0_0_0_0_0_0_0_0', '3_5_1_3_3_1_1_1_0_0_0_0_0_0_0_0_0_0_0_0_0', '4_2_0_2_5_3_5_1_0_0_0_0_0_0_0_0_0_0_0_0_0', '5_1_0_3_1_3_1_1_0_0_0_0_0_0_0_0_0_0_0_0_0', '1_5_0_2_3_3_1_1_0_0_0_0_0_0_0_0_0_0_0_0_0', '1_1_1_2_4_1_1_1_0_0_0_0_0_0_0_0_0_0_0_0_0', '2_4_0_3_2_3_5_1_0_0_0_0_0_0_0_0_0_0_0_0_0', '5_3_0_3_5_3_1_1_0_0_0_0_0_0_0_0_0_0_0_0_0', '5_3_0_3_5_3_1_1_0_0_0_0_0_0_0_0_1_0_0_0_0', '5_1_1_3_1_1_1_1_0_0_0_0_0_0_0_0_0_0_0_0_0', '4_2_1_3_4_1_1_1_0_1_0_0_0_0_0_0_0_0_0_0_0', '3_2_1_3_3_1_1_1_0_0_0_0_0_0_0_0_0_0_0_0_0', '1_3_1_3_4_1_5_1_0_0_0_0_0_0_0_0_0_0_0_0_0', '2_2_0_3_4_3_1_1_0_0_0_0_0_0_0_0_0_0_0_0_0', '3_1_0_3_2_3_1_1_0_0_0_0_0_0_0_0_0_0_0_0_0', '2_4_0_3_3_3_5_1_0_0_0_0_0_0_0_0_0_0_0_0_0', '5_1_1_1_5_1_1_1_0_0_0_0_0_0_0_0_0_0_0_0_0', '3_2_1_2_3_1_1_1_0_0_0_0_0_0_0_0_0_0_0_0_0', '1_1_0_3_3_3_1_1_0_0_0_0_0_0_0_0_0_0_0_0_0', '1_1_0_3_2_3_1_1_0_0_0_0_0_0_0_0_0_0_0_0_0', '5_1_1_2_2_1_1_1_0_0_0_0_0_0_0_0_0_0_0_0_0', '4_3_0_3_4_3_1_1_0_0_0_0_0_0_0_0_0_0_0_0_0', '5_4_1_1_5_1_1_1_0_0_0_0_0_0_0_0_0_0_0_0_0', '4_2_1_3_5_1_1_0_0_0_0_0_0_0_0_0_0_0_0_0_0', '1_2_1_2_3_1_1_1_0_0_0_0_0_0_0_0_0_0_0_0_0', '5_5_1_3_5_1_1_1_0_0_0_0_0_0_0_0_0_0_0_0_0', '2_4_0_3_4_3_1_1_0_0_0_0_0_0_0_0_0_0_0_0_0', '4_2_1_2_2_1_1_1_0_0_0_0_0_0_0_0_0_0_0_0_0', '4_1_1_3_4_1_1_1_0_0_0_0_0_0_0_0_0_0_0_0_0', '1_5_0_2_4_3_1_1_0_0_0_0_0_0_0_0_0_0_0_0_0', '5_3_0_2_1_3_1_1_0_0_0_0_0_0_0_0_0_0_0_0_0', '5_2_0_1_4_3_1_1_0_0_0_0_0_0_0_0_0_0_0_0_0', '3_4_0_3_3_3_1_1_0_0_0_0_0_0_0_0_0_0_0_0_0', '4_4_0_1_1_3_1_1_0_0_0_0_0_0_0_0_0_0_0_0_0', '3_3_0_3_1_3_1_1_0_0_0_0_0_0_0_0_0_0_0_0_0', '5_2_0_1_2_3_1_1_0_0_0_0_0_0_0_0_0_0_0_0_0', '5_1_0_1_1_3_1_1_0_0_0_0_0_0_0_0_0_0_0_0_0', '4_2_0_3_1_3_1_1_0_0_0_0_0_0_0_0_0_0_0_0_0', '5_3_0_3_3_3_1_1_0_0_0_0_0_0_0_0_0_0_0_0_0', '2_2_1_1_4_1_1_1_0_0_0_0_0_0_0_0_0_0_0_0_0', '5_5_0_3_5_3_1_1_0_0_0_0_0_0_0_0_0_0_0_0_0', '3_3_0_3_3_3_1_1_0_0_0_0_0_0_0_0_0_0_0_0_0', '4_1_0_1_1_3_1_1_0_0_0_0_0_0_0_0_0_0_0_0_0', '4_2_0_3_5_3_5_1_0_0_0_0_0_0_0_0_0_0_0_0_0', '3_4_1_1_4_1_1_1_0_0_0_0_0_0_0_0_0_0_0_0_0', '2_3_0_1_1_3_1_1_0_0_0_0_0_0_0_0_0_0_0_0_0', '1_1_1_1_2_1_1_1_0_0_0_0_0_0_0_0_0_0_0_0_0', '4_1_1_3_3_1_1_1_0_0_0_0_0_0_0_0_0_0_0_0_0', '4_4_0_3_3_3_1_1_0_0_0_0_0_0_0_0_0_0_0_0_0', '1_1_0_3_1_3_1_1_0_0_0_0_0_0_0_0_0_0_0_0_0', '5_5_1_1_5_1_5_1_0_0_0_0_0_0_0_0_0_0_0_0_0', '4_3_0_3_1_3_1_1_0_0_0_0_0_0_0_0_0_0_0_0_0', '2_1_1_1_1_1_1_1_0_0_0_0_0_0_0_0_0_0_0_0_0', '3_5_0_1_5_3_1_1_0_0_0_0_0_0_0_0_0_0_0_0_0', '1_1_1_3_4_1_5_1_0_0_0_0_0_0_0_0_0_0_0_0_0', '1_3_0_3_1_3_1_1_1_0_0_0_0_0_0_0_0_0_0_0_0', '5_4_1_3_2_1_1_1_0_0_0_0_0_0_0_0_0_0_0_0_0', '4_1_1_3_5_1_1_1_0_0_0_0_0_0_0_0_0_0_0_0_0', '4_4_0_1_5_3_1_1_0_0_0_0_0_0_0_0_0_0_0_0_0', '2_5_1_3_5_1_1_1_0_0_0_0_0_0_0_0_0_0_0_0_0', '5_2_1_1_1_1_1_1_0_0_0_0_0_0_0_0_0_0_0_0_0', '4_3_1_1_1_1_5_1_0_0_0_0_0_0_0_0_0_0_0_0_0', '5_4_1_3_5_1_5_1_1_0_0_0_0_0_0_0_0_0_0_0_0', '3_5_1_3_4_1_1_1_0_0_0_0_0_0_0_0_0_0_0_0_0', '1_3_1_3_2_1_5_1_0_0_0_0_0_0_0_0_0_0_0_0_0', '5_2_1_3_5_1_1_1_0_0_0_0_0_0_0_0_0_0_0_0_0', '1_2_1_3_2_1_1_1_0_0_0_0_0_0_0_0_0_0_0_0_0', '3_1_1_3_4_1_1_1_0_0_0_0_0_0_0_0_0_0_0_0_0', '2_1_0_1_3_3_1_1_0_0_0_0_0_0_0_0_0_0_0_0_0', '3_4_1_2_3_1_1_1_0_0_0_0_0_0_0_0_0_0_0_0_0', '3_4_0_3_4_3_1_1_0_0_0_0_0_0_0_0_0_0_0_0_0', '1_3_0_1_4_1_1_1_0_0_0_0_0_0_0_0_0_0_0_0_0', '5_2_1_3_4_1_5_1_0_0_0_0_0_0_0_0_0_0_0_0_0', '3_3_0_1_3_1_1_1_0_0_0_0_0_0_0_0_0_0_0_0_0', '2_4_0_3_5_3_1_1_0_0_0_0_0_0_0_0_0_0_0_0_0', '3_3_0_1_3_3_1_1_0_0_0_0_0_0_0_0_0_0_0_0_0', '4_3_1_3_4_1_1_1_0_0_0_0_0_0_0_0_0_0_0_0_0', '3_2_0_3_4_3_1_1_0_0_0_0_0_0_0_0_0_0_0_0_0', '3_5_0_3_5_3_1_1_0_0_0_0_0_0_0_0_0_0_0_0_0', '2_5_0_3_5_3_1_1_0_0_0_0_0_1_0_0_0_0_0_0_0', '1_2_1_2_4_1_1_1_0_0_0_0_0_0_0_0_0_0_0_0_0', '1_3_1_2_3_1_1_1_0_0_0_0_0_0_0_0_0_0_0_0_0', '3_5_0_1_2_3_1_1_0_0_0_0_0_0_0_0_0_0_0_0_0', '1_4_0_3_1_3_1_1_0_0_0_0_0_0_0_0_0_0_0_0_0', '4_1_1_3_1_1_5_1_0_0_0_0_0_0_0_0_0_0_0_0_0', '1_3_1_1_3_1_5_1_0_0_0_0_0_0_0_0_0_0_0_0_0', '1_3_0_2_1_3_1_1_0_0_0_0_0_0_0_0_0_0_0_0_0', '4_5_0_3_5_3_5_1_0_0_0_0_0_0_0_0_0_0_0_0_0', '2_2_1_3_1_1_1_1_0_0_0_0_0_0_0_0_0_0_0_0_0', '1_4_1_1_3_1_1_1_0_0_0_0_0_0_0_0_0_0_0_0_0', '4_1_1_3_2_1_1_1_0_0_0_0_0_0_0_0_0_0_0_0_0', '4_5_0_1_4_3_1_1_0_0_0_0_0_0_0_0_0_0_0_0_0', '4_2_1_3_2_1_5_1_0_0_0_0_0_0_0_0_0_0_0_0_0', '1_1_1_3_2_1_1_1_0_0_0_0_0_0_0_0_0_0_0_0_0', '1_2_1_1_2_1_1_1_0_0_0_0_0_0_0_0_0_0_0_0_0', '4_4_0_1_2_3_1_1_0_0_0_0_0_0_0_0_0_0_0_0_0', '4_3_0_1_1_3_1_1_0_0_0_0_0_0_0_0_0_0_0_0_0', '5_1_1_3_2_1_1_0_0_0_0_0_0_0_0_0_0_0_0_0_0', '4_5_1_3_5_1_1_1_0_0_0_0_0_0_0_0_0_0_0_0_0', '5_2_1_1_4_1_5_1_0_0_0_0_0_0_0_0_0_0_0_0_0', '1_5_0_3_3_3_1_1_0_0_0_0_0_0_0_0_0_0_0_0_0', '1_4_0_3_1_3_1_1_0_0_0_0_0_1_0_0_0_0_0_0_0', '2_3_1_3_3_1_1_0_0_0_0_0_0_0_0_0_0_0_0_0_0', '2_2_1_3_4_1_5_1_0_0_0_0_0_0_0_0_0_0_0_0_0', '5_3_1_3_4_1_1_1_0_0_0_0_0_0_0_0_0_0_0_0_0', '5_1_1_3_3_1_1_1_0_0_0_0_0_0_0_0_0_0_0_0_0', '1_2_0_3_4_3_1_1_0_0_0_0_0_0_0_0_0_0_0_0_0', '1_3_1_2_2_1_1_1_0_0_0_0_0_0_0_0_0_0_0_0_0', '2_3_1_1_1_1_1_1_0_0_0_0_0_0_0_0_0_0_0_0_0', '1_2_0_1_1_3_1_1_0_0_0_0_0_0_0_0_0_0_0_0_0', '5_3_1_3_2_1_1_1_0_0_0_0_0_0_0_0_0_0_0_0_0', '3_5_0_3_1_3_1_1_0_0_0_0_0_0_0_0_0_0_0_0_0', '3_3_0_1_1_3_1_1_0_0_0_0_0_0_0_0_0_0_0_0_1', '3_3_0_1_1_3_1_1_0_0_0_0_0_0_0_0_0_0_0_0_0', '5_1_0_3_4_3_1_0_0_0_0_0_0_0_0_0_0_0_0_0_0', '2_3_1_3_1_1_5_1_0_0_0_0_0_0_0_0_0_0_0_0_0', '4_1_1_2_1_1_1_1_0_0_0_0_0_0_0_0_0_0_0_0_0', '4_1_1_2_1_1_1_0_0_0_0_0_0_0_0_0_0_0_0_0_0', '4_1_1_1_3_1_1_1_0_0_0_0_0_0_0_0_0_0_0_0_0', '2_4_0_1_3_3_1_1_0_0_0_0_0_0_0_0_0_0_0_0_0', '4_1_1_1_4_1_1_0_0_0_0_0_0_0_0_0_0_0_0_0_0', '4_2_0_1_1_3_1_1_0_0_0_0_0_0_0_0_0_0_0_0_0', '1_5_0_1_3_3_1_1_0_0_0_0_0_0_0_0_0_0_0_0_0', '3_3_0_3_4_3_1_1_0_0_0_0_0_0_0_0_0_0_0_0_0', '4_1_0_3_1_3_5_1_0_0_0_0_0_0_0_0_0_0_0_0_0', '2_5_0_1_4_3_1_1_0_0_0_0_0_0_0_0_0_0_0_0_0', '2_5_0_1_4_3_1_1_0_0_0_0_0_1_0_0_0_0_0_0_0', '5_4_1_3_4_1_5_1_0_0_0_0_0_0_0_0_0_0_0_0_0', '5_2_1_2_1_1_1_1_0_0_0_0_0_0_0_0_0_0_0_0_0', '2_2_0_1_4_3_1_1_0_0_0_0_0_0_0_0_0_0_0_0_0', '4_1_0_2_3_3_1_1_0_0_0_0_0_0_0_0_0_0_0_0_0', '1_3_1_1_3_1_1_1_0_0_0_0_0_0_0_0_0_0_0_0_0', '2_1_1_3_5_1_1_1_0_0_0_0_0_0_0_0_0_0_0_0_0', '1_3_0_3_2_3_5_1_0_0_0_0_0_0_0_0_0_0_0_0_0', '2_2_0_3_3_1_1_1_0_0_0_0_0_0_0_0_0_0_0_0_0', '3_1_0_1_1_3_1_1_0_0_0_0_0_0_0_0_0_0_0_0_0', '3_3_1_3_3_1_5_1_0_0_0_0_0_0_0_0_0_0_0_0_0', '3_3_1_3_3_1_1_1_0_0_0_0_0_0_0_0_0_0_0_0_0', '5_2_0_3_2_3_1_1_0_0_0_0_0_0_0_0_0_0_0_0_0', '1_5_0_3_5_3_1_1_0_0_0_0_0_0_0_0_0_0_0_0_0', '4_2_1_1_1_1_1_1_0_0_0_0_0_0_0_0_0_0_0_0_0', '3_2_1_3_2_1_1_1_0_0_0_0_0_0_0_0_0_0_0_0_0', '3_1_0_3_4_3_1_1_0_0_0_0_0_0_0_0_0_0_0_0_0', '3_2_1_3_4_1_1_1_0_1_0_0_0_0_0_0_0_0_0_0_0', '1_4_1_2_5_1_1_1_0_0_0_0_0_0_0_0_0_0_0_0_0', '3_3_0_3_5_3_1_1_0_0_0_0_0_0_0_0_0_0_0_0_0', '1_4_1_3_4_1_1_1_0_0_0_0_0_0_0_0_0_0_0_0_0', '2_3_1_3_4_1_1_1_0_0_0_0_0_0_0_0_0_0_0_0_0', '1_1_0_3_1_3_1_0_0_0_0_0_0_0_0_0_0_0_0_0_0', '5_4_0_1_4_3_1_1_0_0_0_0_0_0_0_0_0_0_0_0_0', '3_2_1_3_2_1_5_0_0_0_0_0_0_0_0_0_0_0_0_0_0', '2_1_0_2_2_3_1_1_0_0_0_0_0_0_0_0_0_0_0_0_0', '4_1_1_2_4_1_1_1_0_0_0_0_0_0_0_0_0_0_0_0_0', '2_1_0_2_3_3_1_1_0_0_0_0_0_0_0_0_0_0_0_0_0', '4_5_0_2_4_3_1_1_0_0_0_0_0_0_0_0_0_0_0_0_0', '2_4_1_3_5_1_5_1_0_0_0_0_0_0_0_0_0_0_0_0_0', '1_2_0_2_2_3_1_1_0_0_0_0_0_0_0_0_0_0_0_0_0', '1_2_1_3_1_1_1_1_0_0_0_0_0_0_0_0_0_0_0_0_0', '1_2_1_3_2_1_5_1_0_0_0_0_0_0_0_0_0_0_0_0_0', '1_1_0_1_1_3_1_1_0_0_0_0_0_0_0_0_0_0_0_0_0', '2_4_0_1_5_3_1_1_0_0_0_0_0_0_0_0_0_0_0_0_0', '2_4_1_3_2_1_5_1_0_0_0_0_0_0_0_0_0_0_0_0_0', '5_4_0_3_2_3_5_1_0_0_0_0_0_0_0_0_0_0_0_0_0', '1_3_1_3_2_1_1_1_0_0_0_0_0_0_0_0_0_0_0_0_0', '2_4_1_3_2_1_1_1_0_0_0_0_0_0_0_0_0_0_0_0_0', '5_1_1_3_3_1_1_0_0_0_0_0_0_0_0_0_0_0_0_0_0', '1_1_0_1_2_3_1_1_0_0_0_0_0_0_0_0_0_0_0_0_0', '2_1_1_1_3_1_1_1_0_0_0_0_0_0_0_0_0_0_0_0_0', '1_3_1_2_4_1_5_1_0_0_0_0_0_0_0_0_0_0_0_0_0', '1_4_1_3_5_1_1_1_0_0_0_0_0_0_0_0_0_0_0_0_0', '1_2_1_1_4_1_1_1_0_0_0_0_0_0_0_0_0_0_0_0_0', '5_3_1_2_2_1_1_1_0_0_0_0_0_0_0_0_0_0_0_0_0', '2_2_0_3_2_3_1_1_0_0_0_0_0_0_0_0_0_0_0_0_0', '3_2_1_3_1_1_1_0_0_0_0_0_0_0_0_0_0_0_0_0_0', '2_1_0_1_1_3_1_1_0_0_0_0_0_0_0_0_0_0_0_0_0', '4_1_0_3_1_3_1_1_0_0_0_0_0_0_0_0_0_0_0_0_0', '5_5_1_1_3_1_1_1_0_0_0_0_0_0_0_0_0_0_0_0_0', '3_1_1_1_1_1_1_1_0_0_0_0_0_0_0_0_0_0_0_0_0', '4_2_0_3_2_3_1_1_0_0_0_0_0_1_0_0_0_0_0_0_0', '2_3_1_1_4_1_1_1_0_0_0_0_0_0_0_0_0_0_0_0_0', '1_1_1_3_3_1_1_1_0_0_0_0_0_0_0_0_0_0_0_0_0', '1_2_0_3_3_3_1_1_0_0_0_0_0_0_0_0_0_0_0_0_0', '5_2_0_1_5_3_1_1_0_0_0_0_0_0_0_0_0_0_0_0_0', '3_2_0_2_4_3_5_1_0_0_0_0_0_0_0_0_0_0_0_0_0', '4_5_0_3_5_3_1_1_0_0_0_0_0_0_0_0_0_0_0_0_0', '3_4_0_3_1_3_5_1_0_0_0_0_0_0_0_0_0_0_0_0_0', '3_4_0_3_5_3_1_1_0_0_0_0_0_0_0_0_0_0_0_0_0', '4_2_1_3_4_1_1_1_0_0_0_0_0_0_0_0_0_0_0_0_0', '2_1_0_3_3_3_1_1_0_0_0_0_0_0_0_0_0_0_0_0_0', '2_3_1_2_3_1_1_1_0_0_0_0_0_0_0_0_0_0_0_0_0', '1_4_1_1_3_1_5_1_0_0_0_0_0_0_0_0_0_0_0_0_0', '4_3_1_1_4_1_1_1_0_0_0_0_0_0_0_0_0_0_0_0_0', '3_1_0_3_3_3_1_1_0_0_0_0_0_0_0_0_0_0_0_0_0', '3_1_0_3_2_1_1_1_0_0_0_0_0_0_0_0_0_0_0_0_0', '3_2_1_1_4_1_1_1_0_0_0_0_0_0_0_0_0_0_0_0_0', '1_4_0_3_1_3_5_1_0_0_0_0_0_0_0_0_0_0_0_0_0', '4_3_0_3_4_3_1_1_0_0_0_0_0_1_0_0_0_0_0_0_0', '3_2_1_1_4_1_1_0_0_0_0_0_0_0_0_0_0_0_0_0_0', '5_2_1_1_2_1_1_1_0_0_0_0_0_0_0_0_0_0_0_0_0', '5_2_1_1_2_1_1_0_0_0_0_0_0_0_0_0_0_0_0_0_0', '5_3_0_3_1_3_5_1_0_0_0_0_0_0_0_0_0_0_0_0_0', '1_5_1_2_2_1_1_1_0_0_0_0_0_0_0_0_0_0_0_0_0', '1_4_0_3_2_3_5_1_0_0_0_0_0_0_0_0_0_0_0_0_0', '4_1_0_2_4_3_1_1_0_0_0_0_0_0_0_0_0_0_0_0_0', '4_5_1_1_5_1_1_1_0_0_0_0_0_0_0_0_0_0_0_0_0', '3_4_1_3_3_1_5_1_0_0_0_0_0_0_0_0_0_0_0_0_0', '5_3_0_3_2_3_1_1_0_0_0_0_0_0_0_0_0_0_0_0_0', '4_4_1_3_4_1_1_1_0_0_0_0_0_0_0_0_0_0_0_0_0', '5_3_0_3_1_1_5_1_0_0_0_0_0_0_0_0_0_0_0_0_0', '3_5_1_1_4_1_1_1_0_0_0_0_0_0_0_0_0_0_0_0_0', '3_1_0_3_1_1_1_1_0_0_0_0_0_0_0_0_0_0_0_0_0', '5_3_0_1_4_3_1_1_0_0_0_0_0_0_0_0_0_0_0_0_0', '5_3_1_3_2_1_5_1_0_0_0_0_0_0_0_0_0_0_0_0_0', '2_1_1_1_2_1_1_1_0_0_0_0_0_0_0_0_0_0_0_0_0', '3_5_1_1_5_1_1_1_0_0_0_0_0_0_0_0_0_0_0_0_0', '3_4_0_1_2_3_1_1_0_0_0_0_0_0_0_0_0_0_0_0_0', '3_3_1_2_2_1_1_1_0_0_0_0_0_0_0_0_0_0_0_0_0', '3_3_1_1_2_1_1_1_0_0_0_0_0_0_0_0_0_0_0_0_0', '4_4_1_3_3_1_1_1_0_0_0_0_0_0_0_0_0_0_0_0_0', '3_2_1_3_1_1_1_1_0_0_0_0_0_0_0_0_0_0_0_0_0', '2_3_1_3_1_1_1_1_0_0_0_0_0_0_0_0_0_0_0_0_0', '3_4_1_1_3_1_5_1_0_0_0_0_0_0_0_0_0_0_0_0_0', '3_3_1_3_4_1_1_1_0_0_0_0_0_0_0_0_0_0_0_0_0', '3_2_0_3_2_3_5_1_0_0_0_0_0_0_0_0_0_0_0_0_0', '4_3_1_3_1_1_1_1_0_0_0_0_0_0_0_0_0_0_0_0_0', '4_5_0_2_5_3_1_1_0_0_0_0_0_0_0_0_0_0_0_0_0', '1_3_0_1_1_3_1_1_0_0_0_0_0_0_0_0_0_0_0_0_0', '2_3_0_3_5_3_1_0_0_0_0_0_0_0_0_0_0_0_0_0_0', '2_3_0_3_5_3_1_1_0_0_0_0_0_0_0_0_0_0_0_0_0', '3_5_0_1_1_3_1_1_0_0_0_0_0_0_0_0_0_0_0_0_0', '3_3_1_3_5_1_1_1_0_0_0_0_0_0_0_0_0_0_0_0_0', '5_5_0_2_5_3_1_1_0_0_0_0_0_0_0_0_0_0_0_0_0', '4_3_1_1_3_1_1_1_0_0_0_0_0_0_0_0_0_0_0_0_0', '3_1_1_1_4_1_1_1_0_0_0_0_0_0_0_0_0_0_0_0_0', '3_4_1_3_5_1_1_1_0_0_0_0_0_0_0_0_0_0_0_0_0', '3_4_0_2_1_3_1_1_0_0_0_0_0_0_0_0_0_0_0_0_0', '5_2_1_3_3_1_1_1_0_0_0_0_0_0_0_0_0_0_0_0_0', '2_4_0_3_3_3_1_1_0_0_0_0_0_0_0_0_0_0_0_0_0', '3_2_0_2_2_3_1_1_0_0_0_0_0_0_0_0_0_0_0_0_0', '5_3_1_1_3_1_1_1_0_0_0_0_0_0_0_0_0_0_0_0_0', '1_5_0_2_2_3_1_1_0_0_0_0_0_0_0_0_0_0_0_0_0', '1_1_1_2_1_1_1_1_0_0_0_0_0_0_0_0_0_0_0_0_0', '2_2_0_2_2_3_1_0_0_0_0_0_0_0_0_0_0_0_0_0_0', '3_4_0_2_3_3_1_1_0_0_0_0_0_0_0_0_0_0_0_0_0', '4_2_0_1_2_3_1_1_0_0_0_0_0_0_0_0_0_0_0_0_0', '1_3_1_1_4_1_1_1_0_0_0_0_0_0_0_0_0_0_0_0_0', '2_3_1_3_4_1_5_1_0_0_0_0_0_0_0_0_0_0_0_0_0', '2_3_1_3_3_1_5_1_0_0_0_0_0_0_0_0_0_0_0_0_0', '4_5_0_1_3_3_1_1_0_0_0_0_0_0_0_0_0_0_0_0_0', '5_1_0_2_3_3_1_1_0_0_0_0_0_0_0_0_0_0_0_0_0', '1_2_0_3_1_3_5_1_0_0_0_0_0_0_0_0_0_0_0_0_0', '5_5_1_1_4_1_1_1_0_0_0_0_0_0_0_0_0_0_0_0_0', '4_3_0_1_2_3_1_1_0_0_0_0_0_0_0_0_0_0_0_0_0', '5_3_1_1_4_1_1_1_0_0_0_0_0_0_0_0_0_0_0_0_0', '4_1_1_1_1_1_1_1_0_0_0_0_0_0_0_0_0_0_0_0_0', '4_3_1_2_5_1_1_1_0_0_0_0_0_0_0_0_0_0_0_0_0', '1_4_0_1_5_3_1_1_0_0_0_0_0_0_0_0_0_0_0_0_0', '2_5_0_1_3_3_1_1_0_0_0_0_0_0_0_0_0_0_0_0_0', '5_5_0_3_1_3_1_0_0_0_0_0_0_0_0_0_0_0_0_0_0', '4_5_1_3_1_1_1_1_0_0_0_0_0_0_0_0_0_0_0_0_0', '4_5_0_3_4_3_5_1_0_0_0_0_0_0_0_0_0_0_0_0_0', '4_3_0_3_5_3_1_1_0_0_0_0_0_0_0_0_0_0_0_0_0', '1_3_1_3_5_1_1_0_0_0_0_0_0_0_0_0_0_0_0_0_0', '4_3_0_3_2_3_1_1_0_0_0_0_0_0_0_0_0_0_0_0_0', '3_4_0_3_1_3_1_1_0_0_0_0_0_0_0_0_0_0_0_0_0', '2_3_1_3_5_1_1_1_0_0_0_0_0_0_0_0_0_0_0_0_0', '4_1_0_3_5_3_1_1_0_0_0_0_0_0_0_0_0_0_0_0_0', '3_1_1_3_5_1_1_1_0_0_0_0_0_0_0_0_0_0_0_0_0', '1_1_1_1_1_1_1_1_0_0_0_0_0_0_0_0_0_0_0_0_0', '3_5_0_2_3_3_1_1_0_0_0_0_0_0_0_0_0_0_0_0_0', '4_1_0_2_1_3_1_1_0_0_0_0_0_0_0_0_0_0_0_0_0', '2_4_1_3_3_1_5_1_0_0_0_0_0_0_0_0_0_0_0_0_0', '1_3_1_2_4_1_1_1_0_0_0_0_0_0_0_0_0_0_0_0_0', '2_2_0_3_5_3_1_1_0_0_0_0_0_0_0_0_0_0_0_0_0', '5_1_0_2_2_3_1_1_0_0_0_0_0_0_0_0_0_0_0_0_0', '3_5_1_2_5_1_1_1_0_0_0_0_0_0_0_0_0_0_0_0_0', '4_5_0_3_3_3_1_1_0_0_0_0_0_0_0_0_0_0_0_0_0', '2_1_0_2_1_3_1_1_0_0_0_0_0_0_0_0_0_0_0_0_0', '3_4_1_1_3_1_1_1_0_0_0_0_0_0_0_0_0_0_0_0_0', '1_1_0_3_4_3_1_1_0_0_0_0_0_0_0_0_0_0_0_0_0', '5_1_0_3_2_3_1_1_0_0_0_0_0_0_0_0_0_0_0_0_0', '4_2_0_3_3_3_1_0_0_0_0_0_0_0_0_0_0_0_0_0_0', '1_3_1_3_1_1_1_1_0_0_0_0_0_0_0_0_0_0_0_0_0', '4_3_0_3_3_3_1_1_0_0_0_0_0_0_0_0_0_0_0_0_0', '1_1_0_2_2_3_1_1_0_0_0_0_0_0_0_0_0_0_0_0_0', '2_2_1_2_4_1_1_1_0_0_0_0_0_0_0_0_0_0_0_0_0', '2_3_0_3_5_3_5_1_0_0_0_0_0_0_0_0_0_0_0_0_0', '3_1_1_3_4_1_5_1_0_0_0_0_0_0_0_0_0_0_0_0_0', '2_3_1_1_3_1_1_1_0_0_0_0_0_0_0_0_0_0_0_0_0', '1_5_1_1_5_1_1_1_0_0_0_0_0_0_0_0_0_0_0_0_0', '2_4_0_2_5_3_1_1_0_0_0_0_0_0_0_0_0_0_0_0_0', '2_4_0_2_5_3_1_1_0_0_0_0_0_1_0_0_0_0_0_0_0', '1_3_0_1_5_3_1_1_0_0_0_0_0_0_0_0_0_0_0_0_0', '3_2_1_2_5_1_1_1_0_0_0_0_0_0_0_0_0_0_0_0_0', '2_4_0_2_3_3_1_1_0_0_0_0_0_0_0_0_0_0_0_0_0', '4_2_0_3_3_3_1_1_0_0_0_0_0_0_0_0_0_0_0_0_0', '1_2_1_1_3_1_1_1_0_0_0_0_0_0_0_0_0_0_0_0_0', '2_3_0_3_1_3_1_1_0_0_0_0_0_0_0_0_0_0_0_0_0', '4_2_1_1_2_1_1_1_0_0_0_0_0_0_0_0_0_0_0_0_0', '2_1_0_3_1_3_1_0_0_0_0_0_0_0_0_0_0_0_0_0_0', '3_1_1_3_1_1_1_1_0_0_0_0_0_0_0_0_0_0_0_0_0', '2_4_1_3_3_1_1_1_0_0_0_0_0_0_0_0_0_0_0_0_0', '4_3_1_3_3_1_1_1_0_0_0_0_0_0_0_0_0_0_0_0_0', '2_1_1_1_4_1_1_1_0_0_0_0_0_0_0_0_0_0_0_0_0', '3_2_0_1_1_3_1_1_0_0_0_0_0_0_0_0_0_0_0_0_0', '2_4_0_1_1_3_1_1_0_0_0_0_0_0_0_0_0_0_0_0_0', '3_4_1_3_5_1_5_1_0_0_0_0_0_0_0_0_0_0_0_0_0', '1_3_1_2_5_1_1_1_0_0_0_0_0_0_0_0_0_0_0_0_0', '2_5_0_3_4_3_5_1_0_0_0_0_0_0_0_0_0_0_0_0_0', '4_5_0_1_1_3_1_1_0_0_0_0_0_0_0_0_0_0_0_0_0', '3_3_1_2_1_1_1_1_0_0_0_0_0_0_0_0_0_0_0_0_0', '5_5_0_2_4_3_1_1_0_0_0_0_0_0_0_0_0_0_0_0_0', '2_5_1_3_4_1_1_1_0_1_0_0_0_0_0_0_0_0_0_0_0', '1_4_0_3_2_3_1_1_0_0_0_0_0_0_0_0_0_0_0_0_0', '2_4_0_1_2_3_1_1_0_0_0_0_0_0_0_0_0_0_0_0_0', '5_1_0_3_2_3_1_0_0_0_0_0_0_0_0_0_0_0_0_0_0', '2_1_0_3_3_3_1_0_0_0_0_0_0_0_0_0_0_0_0_0_0', '1_5_0_3_1_3_1_1_0_0_0_0_0_0_0_0_0_0_0_0_0', '3_3_1_3_4_1_5_1_0_0_0_0_0_0_0_0_0_0_0_0_0', '2_4_1_3_5_1_1_1_0_0_0_0_0_0_0_0_0_0_0_0_0', '5_2_0_3_4_3_1_1_0_0_0_0_0_0_0_0_0_0_0_0_0', '4_4_1_3_4_1_5_1_0_0_0_0_0_0_0_0_0_0_0_0_0', '4_4_0_3_3_3_5_1_0_0_0_0_0_0_0_0_0_0_0_0_0', '1_1_1_2_2_1_1_1_0_0_0_0_0_0_0_0_0_0_0_0_0', '3_1_0_1_2_3_1_1_0_0_0_0_0_0_0_0_0_0_0_0_0', '4_5_1_1_5_1_5_1_0_0_0_0_0_0_0_0_0_0_0_0_0', '3_2_1_1_5_1_1_1_0_0_0_0_0_0_0_0_0_0_0_0_0', '4_2_0_1_3_3_1_1_0_0_0_0_0_0_0_0_0_0_0_0_0', '4_2_1_1_5_1_1_1_0_0_0_0_0_0_0_0_0_0_0_0_0', '1_3_0_1_4_3_1_1_0_0_0_0_0_0_0_0_0_0_0_0_0', '3_4_1_1_1_1_1_1_0_0_0_0_0_0_0_0_0_0_0_0_0', '5_4_1_2_3_1_1_1_0_0_0_0_0_0_0_0_0_0_0_0_0', '5_2_1_2_5_1_1_1_0_0_0_0_0_0_0_0_0_0_0_0_0', '3_1_1_1_3_1_1_1_0_0_0_0_0_0_0_0_0_0_0_0_0', '5_5_0_1_5_3_1_1_0_0_0_0_0_0_0_0_0_0_0_0_0', '4_1_1_2_4_1_1_0_0_0_0_0_0_0_0_0_0_0_0_0_0', '3_2_1_3_2_1_5_1_0_0_0_0_0_0_0_0_0_0_0_0_0', '5_4_1_3_5_1_1_1_0_0_0_0_0_0_0_0_0_0_0_0_0', '2_2_1_1_1_1_1_1_0_0_0_0_0_0_0_0_0_0_0_0_0', '4_2_0_2_4_3_1_1_0_0_0_0_0_0_0_0_0_0_0_0_0', '3_3_1_2_5_1_1_1_0_0_0_0_0_0_0_0_0_0_0_0_0', '2_5_1_1_3_1_1_1_0_0_0_0_0_0_0_0_0_0_0_0_0', '2_3_1_2_2_1_1_1_0_0_0_0_0_0_0_0_0_0_0_0_0', '4_2_0_2_2_3_1_1_0_0_0_0_0_0_0_0_0_0_0_0_0', '3_1_1_3_1_1_1_0_0_0_0_0_0_0_0_0_0_0_0_0_0', '5_5_0_1_4_3_1_1_0_0_0_0_0_0_0_0_0_0_0_0_0', '2_2_0_2_1_3_1_1_0_0_0_0_0_0_0_0_0_0_0_0_0', '4_2_1_3_3_1_1_1_0_0_0_0_0_0_0_0_0_0_0_0_0', '4_5_0_1_4_3_1_1_1_0_0_0_0_0_0_0_0_0_0_0_1', '3_1_1_3_3_1_1_1_0_0_0_0_0_0_0_0_0_0_0_0_0', '3_2_0_2_1_3_1_1_0_0_0_0_0_0_0_0_0_0_0_0_0', '3_2_0_2_3_3_1_1_0_0_0_0_0_0_0_0_0_0_0_0_0', '3_3_0_2_1_3_1_1_0_0_0_0_0_0_0_0_0_0_0_0_0', '3_5_0_1_1_3_1_1_1_0_0_0_0_0_0_0_0_0_0_0_0', '2_1_0_3_1_3_5_1_0_0_0_0_0_0_0_0_0_0_0_0_0', '2_5_0_1_5_3_1_1_0_0_0_0_0_0_0_0_0_0_0_0_0', '1_5_1_3_2_1_1_1_0_0_0_0_0_0_0_0_0_0_0_0_0', '5_3_0_3_2_1_1_1_0_0_0_0_0_0_0_0_0_0_0_0_0', '2_2_0_1_2_3_1_1_0_0_0_0_0_0_0_0_0_0_0_0_0', '5_5_1_1_5_1_1_1_0_0_0_0_0_0_0_0_0_0_0_0_0', '3_1_1_2_3_1_1_1_0_0_0_0_0_0_0_0_0_0_0_0_0', '5_5_1_3_3_1_1_1_0_0_0_0_0_0_0_0_0_0_0_0_0', '3_2_0_3_4_3_1_0_0_0_0_0_0_0_0_0_0_0_0_0_0', '1_1_1_3_2_1_1_0_0_0_0_0_0_0_0_0_0_0_0_0_0', '4_2_1_3_1_1_1_1_0_0_0_0_0_0_0_0_0_0_0_0_0', '5_1_0_3_5_3_1_1_0_0_0_0_0_0_0_0_0_0_0_0_0', '1_5_1_3_1_1_5_1_0_0_0_0_0_0_0_0_0_0_0_0_0', '5_4_1_3_1_1_1_1_0_0_0_0_0_0_0_0_0_0_0_0_0', '5_2_1_1_3_1_1_1_0_1_0_0_0_0_0_0_0_0_0_0_0', '2_3_1_1_5_1_1_1_0_0_0_0_0_0_0_0_0_0_0_0_0', '4_1_1_2_3_1_1_1_0_0_0_0_0_0_0_0_0_0_0_0_0', '5_1_0_1_3_3_1_1_0_0_0_0_0_0_0_0_0_0_0_0_0', '3_5_0_3_3_3_5_1_0_0_0_0_0_1_0_0_0_0_0_0_0', '4_4_1_2_2_1_1_1_0_0_0_0_0_0_0_0_0_0_0_0_0', '3_2_1_3_4_1_1_0_0_0_0_0_0_0_0_0_0_0_0_0_0', '5_2_1_3_2_1_1_1_0_0_0_0_0_0_0_0_0_0_0_0_0', '4_4_1_3_1_1_1_1_0_0_0_0_0_0_0_0_0_0_0_0_0', '3_3_0_3_5_3_5_1_0_0_0_0_0_0_0_0_0_0_0_0_0', '3_3_1_1_5_1_1_1_0_0_0_0_0_0_0_0_0_0_0_0_0', '5_5_1_3_5_1_1_1_0_1_0_0_0_0_0_0_0_0_0_0_0', '5_4_0_2_4_3_1_1_0_0_0_0_0_0_0_0_0_0_0_0_0', '5_1_0_2_1_3_1_1_0_0_0_0_0_0_0_0_0_0_0_0_0', '2_5_0_1_1_3_1_1_0_0_0_0_0_0_0_0_0_0_0_0_0', '3_4_0_1_1_3_1_1_0_0_0_0_0_0_0_0_0_0_0_0_0', '1_5_0_1_1_3_1_1_0_0_0_0_0_0_0_0_0_0_0_0_0', '3_1_1_2_2_1_1_1_0_0_0_0_0_0_0_0_0_0_0_0_0', '2_4_1_1_3_1_1_1_0_0_0_0_0_0_0_0_0_0_0_0_0', '5_1_1_1_1_1_1_1_0_0_0_0_0_0_0_0_0_0_0_0_0', '1_1_0_1_5_3_1_0_0_0_0_0_0_0_0_0_0_0_0_0_0', '2_2_0_3_2_3_1_0_0_0_0_0_0_0_0_0_0_0_0_0_0', '2_2_1_1_5_1_1_1_0_0_0_0_0_0_0_0_0_0_0_0_0', '5_3_1_1_2_1_1_1_1_0_0_0_0_0_0_0_0_0_0_0_1', '5_3_1_1_2_1_1_1_0_0_0_0_0_0_0_0_0_0_0_0_0', '3_3_1_1_4_1_1_1_0_0_0_0_0_0_0_0_0_0_0_0_0', '2_3_0_3_4_1_1_1_0_0_0_0_0_0_0_0_0_0_0_0_0', '3_4_0_3_2_3_1_1_0_0_0_0_0_0_0_0_0_0_0_0_0', '2_4_1_2_5_1_1_1_0_0_0_0_0_0_0_0_0_0_0_0_0', '3_3_1_1_5_1_5_1_0_0_0_0_0_0_0_0_0_0_0_0_0', '2_1_1_3_1_1_1_1_0_0_0_0_0_0_0_0_0_0_0_0_0', '5_3_1_1_5_1_5_1_0_0_0_0_0_0_0_0_0_0_0_0_0', '2_2_1_3_5_1_1_0_0_0_0_0_0_0_0_0_0_0_0_0_0', '1_5_1_3_1_1_1_1_0_0_0_0_0_0_0_0_0_0_0_0_0', '5_1_1_2_1_1_1_1_0_0_0_0_0_0_0_0_0_0_0_0_0', '4_3_0_2_5_3_1_1_0_0_0_0_0_0_0_0_0_0_0_0_0', '2_5_1_1_4_1_1_1_0_0_0_0_0_0_0_0_0_0_0_0_0', '4_4_1_1_5_1_1_1_0_0_0_0_0_0_0_0_0_0_0_0_0', '2_2_1_3_2_1_1_1_0_0_0_0_0_0_0_0_0_0_0_0_0', '2_2_0_2_2_3_5_1_0_0_0_0_0_0_0_0_0_0_0_0_0', '5_3_1_2_4_1_1_1_0_0_0_0_0_0_0_0_0_0_0_0_0', '5_5_0_3_2_3_5_1_0_0_0_0_0_0_0_0_0_0_0_0_0', '5_4_1_2_5_1_1_1_0_0_0_0_0_1_0_0_0_0_0_0_0', '4_2_1_1_2_1_1_0_0_0_0_0_0_0_0_0_0_0_0_0_0', '4_1_1_2_2_1_1_0_0_0_0_0_0_0_0_0_0_0_0_0_0', '3_4_1_1_2_1_1_1_0_0_0_0_0_0_0_0_0_0_0_0_0', '4_5_0_3_2_3_1_1_0_0_0_0_0_0_0_0_0_0_0_0_0', '3_3_0_1_2_3_1_1_0_0_0_0_0_0_0_0_0_0_0_0_0', '2_4_1_3_4_1_5_1_0_0_0_0_0_0_0_0_0_0_0_0_0', '2_4_0_3_4_3_5_1_0_0_0_0_0_0_0_0_0_0_0_0_0', '4_4_1_1_2_1_1_1_0_0_0_0_0_0_0_0_0_0_0_0_0', '1_4_1_3_3_1_1_1_0_0_0_0_0_0_0_0_0_0_0_0_0', '3_3_0_1_4_3_1_1_0_0_0_0_0_0_0_0_0_0_0_0_0', '3_3_1_1_3_1_1_1_0_0_0_0_0_0_0_0_0_0_0_0_0', '4_3_1_3_2_1_1_0_0_0_0_0_0_0_0_0_0_0_0_0_0', '3_2_0_1_4_3_1_1_0_0_0_0_0_0_0_0_0_0_0_0_0', '5_1_0_2_4_3_1_1_0_0_0_0_0_0_0_0_0_0_0_0_0', '1_2_1_1_5_1_1_1_0_0_0_0_0_0_0_0_0_0_0_0_0', '5_1_0_2_4_3_1_0_0_0_0_0_0_0_0_0_0_0_0_0_0', '5_1_1_2_4_1_1_1_0_0_0_0_0_0_0_0_0_0_0_0_0', '5_3_0_3_3_3_5_1_0_0_0_0_0_0_0_0_0_0_0_0_0', '3_2_0_3_5_3_1_1_0_0_0_0_0_0_0_0_0_0_0_0_0', '2_4_0_1_4_3_1_1_0_0_0_0_0_0_0_0_0_0_0_0_0', '4_4_0_3_1_3_1_1_0_0_0_0_0_0_0_0_0_0_0_0_0', '3_4_1_1_5_1_1_1_0_0_0_0_0_0_0_0_0_0_0_0_0', '1_2_0_1_5_3_1_1_0_0_0_0_0_0_0_0_0_0_0_0_0', '1_2_0_1_5_3_1_1_0_0_0_0_0_0_1_0_0_0_0_0_0', '4_3_0_3_2_3_5_1_0_0_0_0_0_0_0_0_0_0_0_0_0', '5_3_1_3_5_1_5_1_0_0_0_0_0_0_0_0_0_0_0_0_0', '1_4_0_2_2_3_1_1_0_0_0_0_0_0_0_0_0_0_0_0_0', '1_5_1_3_5_1_1_0_0_0_0_0_0_0_0_0_0_0_0_0_0', '2_2_0_1_5_3_1_1_0_0_0_0_0_0_0_0_0_0_0_0_0', '1_4_1_3_3_1_5_1_0_0_0_0_0_0_0_0_0_0_0_0_0', '1_3_0_2_2_3_1_1_0_0_0_0_0_0_0_0_0_0_0_0_0', '2_5_1_1_5_1_1_1_0_0_0_0_0_0_0_0_0_0_0_0_0', '5_4_0_3_4_3_1_1_0_0_0_0_0_0_0_0_0_0_0_0_0', '1_5_1_1_2_1_1_1_0_0_0_0_0_0_0_0_0_0_0_0_0', '5_3_1_3_3_1_1_1_0_0_0_0_0_0_0_0_0_0_0_0_0', '4_2_0_1_4_3_1_1_0_0_0_0_0_0_0_0_0_0_0_0_0', '3_2_0_1_2_3_1_1_0_0_0_0_0_0_0_0_0_0_0_0_0', '2_2_1_2_2_1_1_1_0_0_0_0_0_0_0_0_0_0_0_0_0', '4_2_1_3_3_1_1_0_0_0_0_0_0_0_0_0_0_0_0_0_0', '1_4_0_1_3_3_1_1_0_0_0_0_0_0_0_0_0_0_0_0_0', '1_4_0_2_1_3_1_1_0_0_0_0_0_0_0_0_0_0_0_0_0', '1_2_0_1_2_3_1_1_0_0_0_0_0_0_0_0_0_0_0_0_0', '4_2_1_1_4_1_1_1_0_0_0_0_0_0_0_0_0_0_0_0_0', '2_1_1_2_1_1_1_1_0_0_0_0_0_0_0_0_0_0_0_0_0', '5_2_0_3_1_3_1_1_1_0_0_0_0_0_0_0_1_0_0_0_0', '1_4_1_2_2_1_1_1_0_0_0_0_0_0_0_0_0_0_0_0_0', '5_5_1_2_2_1_1_1_0_0_0_0_0_0_0_0_0_0_0_0_0', '2_3_1_3_5_1_5_1_0_0_0_0_0_0_0_0_0_0_0_0_0', '2_5_1_3_2_1_5_1_0_0_0_0_0_0_0_0_0_0_0_0_0', '5_4_0_3_1_3_1_1_0_0_0_0_0_0_0_0_0_0_0_0_0', '5_5_1_2_5_1_5_1_0_0_0_0_0_0_0_0_0_0_0_0_0', '3_5_1_2_3_1_1_1_0_0_0_0_0_0_0_0_0_0_0_0_0', '4_5_0_1_2_3_1_1_0_0_0_0_0_0_0_0_0_0_0_0_0', '4_4_1_1_1_1_1_1_0_0_0_0_0_0_0_0_0_0_0_0_0', '4_3_1_3_3_1_5_1_0_0_0_0_0_0_0_0_0_0_0_0_0', '5_5_0_3_1_3_5_1_0_0_0_0_0_0_0_0_0_0_0_0_0', '1_1_0_1_5_3_1_1_0_0_0_0_0_0_0_0_0_0_0_0_0', '2_2_1_3_2_1_1_0_0_0_0_0_0_0_0_0_0_0_0_0_0', '4_4_1_2_5_1_1_1_0_0_0_0_0_0_0_0_0_0_0_0_0', '3_1_0_2_2_3_1_1_0_0_0_0_0_0_0_0_0_0_0_0_0', '3_1_1_2_3_1_1_0_0_0_0_0_0_0_0_0_0_0_0_0_0', '3_2_1_3_2_1_1_0_0_0_0_0_0_0_0_0_0_0_0_0_0', '5_3_0_2_3_3_1_1_0_0_0_0_0_0_0_0_0_0_0_0_0', '3_3_1_3_1_1_1_1_0_0_0_0_0_0_0_0_0_0_0_0_0', '1_5_0_1_4_3_1_1_0_0_0_0_0_0_0_0_0_0_0_0_0', '1_1_0_3_1_1_1_1_0_0_0_0_0_0_0_0_0_0_0_0_0', '5_4_0_1_5_3_1_1_0_0_0_0_0_0_0_0_0_0_0_0_0', '1_2_0_2_1_3_1_1_0_0_0_0_0_0_0_0_0_0_0_0_0', '2_4_0_2_2_3_1_1_0_0_0_0_0_0_0_0_0_0_0_0_0', '2_4_0_2_1_1_1_1_0_0_0_0_0_0_0_0_0_0_0_0_0', '3_3_0_3_2_3_1_1_0_0_0_0_0_0_0_0_0_0_0_0_0', '2_2_1_1_2_1_5_1_0_0_0_0_0_0_0_0_0_0_0_0_0', '2_4_0_3_5_3_5_1_0_0_0_0_0_0_0_0_0_0_0_0_0', '1_1_0_2_4_3_1_1_0_0_0_0_0_0_0_0_0_0_0_0_0', '4_1_1_3_1_1_1_0_0_0_0_0_0_0_0_0_0_0_0_0_0', '2_3_0_2_5_3_1_1_0_0_0_0_0_0_0_0_0_0_0_0_0', '3_2_1_3_3_1_1_0_0_0_0_0_0_0_0_0_0_0_0_0_0', '3_4_0_3_4_3_5_1_0_0_0_0_0_0_0_0_0_0_0_0_0', '5_4_1_3_4_1_1_1_0_0_0_0_0_0_0_0_0_0_0_0_0', '4_3_1_3_2_1_5_1_0_0_0_0_0_0_0_0_0_0_0_0_0', '2_4_1_3_1_1_1_1_0_0_0_0_0_0_0_0_0_0_0_0_0', '5_1_0_3_3_3_5_1_0_0_0_0_0_0_0_0_0_0_0_0_0', '4_3_1_1_2_1_1_1_0_0_0_0_0_0_0_0_0_0_0_0_0', '1_5_0_3_5_3_5_1_0_0_0_0_0_0_0_0_0_0_0_0_0', '2_1_1_3_3_1_1_0_0_0_0_0_0_0_0_0_0_0_0_0_0', '1_3_0_1_2_3_1_1_0_0_0_0_0_0_0_0_0_0_0_0_0', '3_4_0_2_5_3_1_1_0_0_0_0_0_0_0_0_0_0_0_0_0', '1_5_1_3_3_1_1_1_0_0_0_0_0_0_0_0_0_0_0_0_0', '2_1_0_3_5_3_1_1_0_0_0_0_0_0_0_0_0_0_0_0_0', '1_2_1_1_1_1_1_1_0_0_0_0_0_0_0_0_0_0_0_0_0', '1_2_1_3_3_1_1_1_0_0_0_0_0_0_0_0_0_0_0_0_0', '2_1_1_3_5_1_5_1_0_0_0_0_0_0_0_0_0_0_0_0_0', '5_2_0_2_2_3_1_1_0_0_0_0_0_0_0_0_0_0_0_0_0', '3_5_0_3_4_3_5_1_0_0_0_0_0_0_0_0_0_0_0_0_0', '5_2_0_2_4_3_1_1_0_0_0_0_0_0_0_0_0_0_0_0_0', '3_1_0_1_3_1_1_1_0_0_0_0_0_0_0_0_0_0_0_0_0', '4_3_0_3_1_3_5_1_0_0_0_0_0_0_0_0_0_0_0_0_0', '3_5_1_3_5_1_5_1_0_0_0_0_0_0_0_0_0_0_0_0_0', '1_5_0_3_4_3_1_1_1_0_0_0_0_0_0_0_0_0_0_0_0', '2_1_1_3_3_1_5_1_0_0_0_0_0_0_0_0_0_0_0_0_0', '1_2_0_3_4_1_5_1_0_0_0_0_0_0_0_0_0_0_0_0_0', '3_2_1_1_2_1_1_1_0_0_0_0_0_1_0_0_1_0_0_0_1', '5_2_0_3_2_3_5_1_0_0_0_0_0_0_0_0_0_0_0_0_0', '3_2_1_1_2_1_1_1_0_0_0_0_0_0_0_0_0_0_0_0_0', '4_2_0_3_5_3_1_1_0_0_0_0_0_0_0_0_0_0_0_0_0', '1_3_1_3_4_1_1_1_0_1_0_0_0_0_0_0_0_0_0_0_0', '2_5_0_3_3_3_1_1_1_0_0_0_0_0_0_0_0_0_0_0_1', '1_1_1_3_1_1_1_0_0_0_0_0_0_0_0_0_0_0_0_0_0', '1_3_0_2_5_3_1_1_0_0_0_0_0_0_0_0_0_0_0_0_0', '2_4_0_3_3_1_1_1_0_0_0_0_0_0_0_0_0_0_0_0_0', '3_2_1_3_5_1_1_1_0_0_0_0_0_0_0_0_0_0_0_0_0', '5_5_1_1_1_1_1_1_0_0_0_0_0_0_0_0_0_0_0_0_0', '2_4_0_3_3_1_1_1_0_0_0_0_0_0_0_1_0_0_0_0_0', '5_5_1_3_1_1_1_1_0_0_0_0_0_0_0_0_0_0_0_0_0', '5_1_1_3_1_1_1_0_0_0_0_0_0_0_0_0_0_0_0_0_0', '2_5_1_1_2_1_1_1_0_0_0_0_0_0_0_0_0_0_0_0_0', '3_3_1_2_3_1_1_1_0_0_0_0_0_0_0_0_0_0_0_0_0', '5_3_0_2_2_3_1_1_0_0_0_0_0_0_0_0_0_0_0_0_0', '5_1_1_1_3_1_1_1_0_0_0_0_0_0_0_0_0_0_0_0_0', '5_1_1_1_3_1_1_0_0_0_0_0_0_0_0_0_0_0_0_0_0', '4_4_1_1_5_1_5_1_0_0_0_0_0_0_0_0_0_0_0_0_0', '5_2_1_1_4_1_1_1_0_0_0_0_0_0_0_0_0_0_0_0_1', '1_2_1_3_3_1_5_1_0_0_0_0_0_0_0_0_0_0_0_0_0', '5_2_1_1_4_1_1_1_0_0_0_0_0_0_0_0_0_0_0_0_0', '4_5_0_1_5_3_5_1_0_0_0_0_0_0_0_0_0_0_0_0_0', '2_2_1_2_3_1_1_1_0_0_0_0_0_0_0_0_0_0_0_0_0', '5_2_1_3_5_1_5_1_0_0_0_0_0_0_0_0_0_0_0_0_0', '5_5_1_2_5_1_1_1_0_0_0_0_0_0_0_0_0_0_0_0_0', '5_2_1_3_2_1_5_1_0_0_0_0_0_0_0_0_0_0_0_0_0', '5_3_0_3_3_1_1_1_0_0_0_0_0_0_0_0_0_0_0_0_0', '1_4_0_3_5_3_5_1_0_0_0_0_0_0_0_0_0_0_0_0_0', '2_2_1_3_1_1_1_0_0_0_0_0_0_0_0_0_0_0_0_0_0', '4_1_0_3_3_3_1_1_0_0_0_0_0_0_0_0_0_0_0_0_0', '5_4_1_3_3_1_1_1_0_0_0_0_0_0_0_0_0_0_0_0_0', '4_5_1_1_4_1_5_1_0_0_0_0_0_0_0_0_0_0_0_0_0', '1_4_0_1_1_3_1_1_0_0_0_0_0_0_0_0_0_0_0_0_0', '4_2_1_1_3_1_1_1_0_0_0_0_0_0_0_0_0_0_0_0_0', '4_5_1_1_4_1_1_1_0_0_0_0_0_0_0_0_0_0_0_0_0', '4_1_1_3_2_1_1_0_0_0_0_0_0_0_0_0_0_0_0_0_0', '4_1_0_1_5_3_1_1_0_0_0_0_0_0_0_0_0_0_0_0_0', '2_3_1_1_2_1_1_1_0_0_0_0_0_0_0_0_0_0_0_0_0', '3_1_1_2_1_1_1_1_0_0_0_0_0_0_0_0_0_0_0_0_0', '3_2_0_3_1_3_5_1_0_0_0_0_0_0_0_0_0_0_0_0_0', '2_3_0_1_3_3_1_1_0_0_0_0_0_0_0_0_1_0_0_0_0', '2_3_0_1_3_3_1_1_0_0_0_0_0_0_0_0_0_0_0_0_0', '3_3_1_3_5_1_5_1_0_0_0_0_0_0_0_0_0_0_0_0_0', '1_4_1_2_3_1_1_1_0_0_0_0_0_0_0_0_0_0_0_0_0', '2_3_0_1_4_3_1_1_0_0_0_0_0_0_0_0_0_0_0_0_0', '4_5_1_2_4_1_1_1_0_0_0_0_0_0_0_0_0_0_0_0_0', '4_3_0_1_5_3_1_1_0_0_0_0_0_1_0_0_0_0_0_0_0', '4_1_0_3_4_3_1_1_0_0_0_0_0_0_0_0_0_0_0_0_0', '3_4_0_1_4_3_1_1_0_0_0_0_0_0_0_0_0_0_0_0_0', '5_5_0_2_2_3_1_1_0_0_0_0_0_0_0_0_0_0_0_0_0', '4_4_0_3_2_3_5_1_0_0_0_0_0_0_0_0_0_0_0_0_0', '5_4_1_3_5_1_1_0_0_0_0_0_0_0_0_0_0_0_0_0_0', '4_1_1_1_3_1_5_1_0_0_0_0_0_0_0_0_0_0_0_0_0', '1_5_0_3_5_3_1_1_1_0_0_0_0_0_0_0_0_0_0_0_0', '3_3_1_2_2_1_5_1_0_0_0_0_0_0_0_0_0_0_0_0_0', '4_4_0_3_1_3_5_1_0_0_0_0_0_0_0_0_0_0_0_0_0', '1_3_0_2_4_3_1_1_0_0_0_0_0_0_0_0_0_0_0_0_0', '3_5_0_2_3_3_5_1_0_0_0_0_0_0_0_0_0_0_0_0_0', '5_4_0_1_2_3_1_1_0_0_0_0_0_0_0_0_0_0_0_0_0', '4_4_1_3_3_1_1_1_0_1_1_0_0_0_0_0_0_0_0_0_0', '3_4_1_3_1_1_5_1_0_0_0_0_0_0_0_0_0_0_0_0_0', '5_1_0_1_5_3_1_1_0_0_0_0_0_0_0_0_0_0_0_0_0', '1_5_1_3_4_1_5_1_0_0_0_0_0_0_0_0_0_0_0_0_0', '3_3_1_3_3_1_1_1_0_1_0_0_0_0_0_0_0_0_0_0_0', '1_5_1_2_4_1_1_1_0_0_0_0_0_0_0_0_0_0_0_0_0', '3_3_0_2_3_3_1_1_0_0_0_0_0_0_0_0_0_0_0_0_0', '2_2_1_1_2_1_1_1_0_0_0_0_0_0_0_0_0_0_0_0_0', '5_4_1_3_3_1_1_1_0_0_0_0_0_1_0_0_0_0_0_0_0', '2_5_0_2_5_3_1_1_0_0_0_0_0_0_0_0_0_0_0_0_0', '2_2_1_2_5_1_1_1_0_0_0_0_0_0_0_0_0_0_0_0_0', '4_2_1_3_1_1_1_0_0_0_0_0_0_0_0_0_0_0_0_0_0', '2_5_1_3_3_1_1_1_0_0_0_0_0_0_0_0_0_0_0_0_0', '5_1_0_3_1_3_5_1_0_0_0_0_0_0_0_0_0_0_0_0_0', '1_1_1_3_4_1_1_1_0_0_0_0_0_0_0_0_0_0_0_0_0', '5_2_1_2_4_1_1_1_0_0_0_0_0_0_0_0_0_0_0_0_0', '2_1_0_1_2_1_5_1_0_0_0_0_0_0_0_0_0_0_0_0_0', '5_3_0_1_1_3_1_1_0_0_0_0_0_0_0_0_0_0_0_0_0', '5_5_0_1_2_3_1_1_0_0_0_0_0_0_0_0_0_0_0_0_0', '5_5_1_3_4_1_1_0_0_0_0_0_0_0_0_0_0_0_0_0_0', '1_1_0_1_3_3_1_1_0_0_0_0_0_0_0_0_0_0_0_0_0', '5_4_0_3_4_3_5_1_0_0_0_0_0_0_0_0_0_0_0_0_0', '4_2_0_3_1_3_1_1_0_1_0_0_0_0_0_0_0_0_0_0_0', '5_3_1_3_3_1_5_1_0_0_0_0_0_0_0_0_0_0_0_0_0', '3_5_0_3_5_3_5_1_0_0_0_0_0_0_0_0_0_0_0_0_0', '1_5_1_3_5_1_5_1_0_0_0_0_0_0_0_0_0_0_0_0_0', '3_2_0_1_3_3_1_1_0_0_0_0_0_0_0_0_0_0_0_0_0', '2_4_1_3_4_1_5_0_0_0_0_0_0_0_0_0_0_0_0_0_0', '2_4_1_3_1_1_5_1_0_0_0_0_0_0_0_0_0_0_0_0_0', '4_4_0_3_4_3_5_1_0_0_0_0_0_0_0_0_0_0_0_0_0', '5_2_1_3_1_1_1_0_0_0_0_0_0_0_0_0_0_0_0_0_0', '3_5_0_1_4_3_1_1_0_0_0_0_0_0_0_0_0_0_0_0_0', '1_2_1_2_3_1_1_1_0_0_0_0_0_1_0_0_0_0_0_0_0', '2_2_0_1_3_3_1_1_0_0_0_0_0_0_0_0_0_0_0_0_0', '2_3_1_2_1_1_1_1_0_0_0_0_0_0_0_0_0_0_0_0_0', '3_1_1_1_5_1_1_1_0_0_0_0_0_0_0_0_0_0_0_0_0', '3_5_0_1_5_3_5_1_0_0_0_0_0_0_0_0_0_0_0_0_0', '3_2_1_1_1_1_1_1_0_0_0_0_0_0_0_0_0_0_0_0_0', '5_1_1_3_5_1_1_1_0_0_0_0_0_0_0_0_0_0_0_0_0', '3_5_0_3_5_3_5_1_0_0_0_0_0_1_0_0_0_0_0_0_0', '5_2_0_1_1_1_1_1_0_0_0_0_0_0_0_0_0_0_0_0_0', '4_5_0_2_3_3_1_1_0_0_0_0_0_0_0_0_0_0_0_0_0', '3_1_1_1_2_1_1_1_0_0_0_0_0_0_0_0_0_0_0_0_0', '4_5_0_3_2_3_5_1_0_0_0_0_0_0_0_0_0_0_0_0_0', '5_4_0_1_1_3_1_1_0_0_0_0_0_0_0_0_0_0_0_0_0', '4_5_0_3_3_3_5_1_0_0_0_0_0_0_0_0_0_0_0_0_0', '1_3_0_3_2_1_1_1_0_0_0_0_0_0_0_0_0_0_0_0_0', '4_5_1_3_4_1_1_1_0_0_0_0_0_0_0_0_0_0_0_0_0', '5_2_1_3_4_1_1_0_0_0_0_0_0_0_0_0_0_0_0_0_0', '4_1_1_1_2_1_1_1_0_0_0_0_0_0_0_0_0_0_0_0_0', '2_4_0_2_4_3_1_1_0_0_0_0_0_0_0_0_0_0_0_0_0', '1_1_1_2_3_1_5_1_0_0_0_0_0_0_0_0_0_0_0_0_0', '1_2_1_2_5_1_1_1_0_0_0_0_0_0_1_0_0_0_0_0_0', '4_1_0_1_5_3_1_1_0_1_0_0_0_0_0_0_0_0_0_0_0', '1_2_1_2_5_1_1_1_0_0_0_0_0_0_0_0_0_0_0_0_0', '4_3_1_2_4_1_5_1_0_0_0_0_0_0_0_0_0_0_0_0_0', '4_2_1_3_3_1_5_0_0_0_0_0_0_0_0_0_0_0_0_0_0', '3_1_1_2_1_1_1_0_0_0_0_0_0_0_0_0_0_0_0_0_0', '5_1_1_1_4_1_1_1_1_0_0_0_0_0_0_0_1_0_0_0_0', '4_2_1_3_3_1_5_1_0_0_0_0_0_0_0_0_0_0_0_0_0', '1_2_0_3_2_3_5_1_0_0_0_0_0_0_0_0_0_0_0_0_0', '2_5_0_1_2_3_1_1_0_0_0_0_0_0_0_0_0_0_0_0_0', '3_4_0_3_2_3_1_1_0_0_0_0_0_1_0_0_0_0_0_0_0', '1_2_1_3_3_1_5_1_0_0_0_0_0_0_1_0_0_0_0_0_0', '4_3_0_1_3_3_1_1_0_0_0_0_0_0_0_0_0_0_0_0_0', '2_2_0_1_1_3_1_1_0_0_0_0_0_0_0_0_0_0_0_0_0', '5_5_0_3_1_3_1_1_0_0_0_0_0_0_0_0_0_0_0_0_0', '5_3_0_3_4_3_5_1_0_0_0_0_0_0_0_0_0_0_0_0_0', '3_5_0_2_4_3_1_1_0_0_0_0_0_0_0_0_0_0_0_0_0', '4_3_0_2_4_3_1_1_0_0_0_0_0_0_0_0_0_0_0_0_0', '5_3_0_1_2_3_1_1_0_0_0_0_0_0_0_0_0_0_0_0_0', '3_2_0_1_2_3_1_0_0_0_0_0_0_0_0_0_0_0_0_0_0', '5_1_1_3_4_1_1_0_0_0_0_0_0_1_0_0_0_0_0_0_0', '4_2_1_3_4_1_1_1_1_0_0_0_0_0_0_0_0_0_0_0_0', '5_2_0_3_1_3_5_1_0_0_0_0_0_0_0_0_0_0_0_0_0', '4_1_1_3_3_1_5_1_0_0_0_0_0_0_0_0_0_0_0_0_0', '2_5_0_3_5_3_5_1_0_0_0_0_0_0_0_0_0_0_0_0_0', '4_1_0_3_4_1_1_1_0_0_0_0_0_0_0_0_0_0_0_0_0', '4_5_0_2_4_3_5_1_0_0_0_0_0_0_0_0_0_0_0_0_0', '1_4_1_2_4_1_1_1_0_0_0_0_0_0_0_0_0_0_0_0_0', '4_4_1_1_4_1_1_1_0_0_0_0_0_0_0_0_0_0_0_0_0', '3_2_0_1_5_3_1_1_0_0_0_0_0_0_0_0_0_0_0_0_0', '3_2_0_3_4_3_1_1_0_1_0_0_0_0_0_0_0_0_0_0_0', '2_1_1_3_2_1_1_0_0_0_0_0_0_0_0_0_0_0_0_0_0', '5_2_1_1_3_1_1_1_0_0_0_0_0_0_0_0_0_0_0_0_0', '1_3_1_3_3_1_1_1_0_1_0_0_0_0_0_0_0_0_0_0_0', '3_2_1_3_4_1_5_1_0_0_0_0_0_0_0_0_0_0_0_0_0', '4_5_1_3_3_1_1_1_0_0_0_0_0_0_1_0_0_0_0_0_0', '4_5_1_3_3_1_1_1_0_0_0_0_0_0_0_0_0_0_0_0_0', '1_1_1_3_1_1_5_1_0_0_0_0_0_0_0_0_0_0_0_0_0', '4_3_1_3_4_1_1_0_0_0_0_0_0_0_0_0_0_0_0_0_0', '3_3_1_3_1_1_5_1_0_0_0_0_0_0_0_0_0_0_0_0_0', '3_1_1_3_1_1_5_1_0_0_0_0_0_0_0_0_0_0_0_0_0', '5_4_0_2_5_3_1_1_0_0_0_0_0_0_0_0_0_0_0_0_0', '1_4_0_1_3_1_1_1_0_0_0_0_0_0_0_0_0_0_0_0_0', '5_2_1_3_1_1_5_1_0_0_0_0_0_0_0_0_0_0_0_0_0', '3_4_0_2_1_3_5_1_0_0_0_0_0_0_0_0_0_0_0_0_0', '2_2_0_3_3_3_1_1_0_1_0_0_0_0_0_0_0_0_0_0_0', '4_1_1_2_2_1_1_1_0_0_0_0_0_0_0_0_0_0_0_0_0', '4_2_0_3_3_3_5_1_0_0_0_0_0_0_0_0_0_0_0_0_0', '3_4_0_1_4_3_5_1_0_0_0_0_0_0_0_0_0_0_0_0_0', '2_1_0_3_2_1_1_1_0_0_0_0_0_0_0_0_0_0_0_0_0', '5_4_0_1_3_3_1_1_0_0_0_0_0_1_0_0_0_0_0_0_0', '2_3_0_2_1_3_1_1_0_0_0_0_0_0_0_0_0_0_0_0_0', '2_5_0_3_3_3_5_1_0_0_0_0_0_0_0_0_0_0_0_0_0', '1_5_0_3_5_3_1_1_1_0_0_0_0_1_0_0_0_0_0_0_1', '1_5_0_3_5_3_1_1_1_0_0_0_0_1_0_0_0_0_0_0_0', '2_5_1_1_5_1_1_1_0_0_0_0_0_1_0_0_0_0_0_0_0', '2_5_0_3_1_1_1_1_0_0_0_0_0_0_0_0_0_0_0_0_0', '4_1_0_1_4_3_1_1_0_0_0_0_0_0_0_0_0_0_0_0_0', '3_5_1_3_2_1_1_1_0_0_0_0_0_0_0_0_0_0_0_0_0', '3_5_1_2_2_1_1_1_0_0_0_0_0_0_0_0_0_0_0_0_0', '4_4_1_2_5_1_5_1_0_0_0_0_0_0_0_0_0_0_0_0_0', '1_4_1_1_5_1_5_1_0_0_0_0_0_0_0_0_0_0_0_0_0', '5_1_0_1_4_3_1_1_0_0_0_0_0_0_0_0_0_0_0_0_0', '2_3_0_3_4_3_1_1_0_1_0_0_0_0_0_0_0_0_0_0_0', '5_4_1_2_3_1_5_1_0_0_0_0_0_0_0_0_0_0_0_0_0', '2_2_1_1_5_1_1_0_0_0_0_0_0_0_0_0_0_0_0_0_0', '1_5_1_1_4_1_5_1_0_0_0_0_0_0_0_0_0_0_0_0_0', '2_3_0_2_2_3_5_1_0_0_0_0_0_0_0_0_0_0_0_0_0', '3_3_0_3_3_3_1_1_1_0_0_0_0_0_1_0_0_0_0_0_0', '4_3_1_3_5_1_1_0_0_0_0_0_0_0_0_0_0_0_0_0_0', '2_3_0_3_1_1_1_1_0_0_0_0_0_0_0_0_0_0_0_0_0', '1_5_1_3_2_1_5_1_0_0_0_0_0_1_0_0_0_0_0_0_0', '1_5_1_3_2_1_5_1_0_0_0_0_0_0_0_0_0_0_0_0_0', '2_5_1_3_5_1_1_0_0_0_0_0_0_0_0_0_0_0_0_0_0', '3_1_0_1_1_3_1_1_1_0_0_0_0_0_0_0_0_0_0_0_0', '1_5_1_3_2_1_5_1_0_1_0_0_0_0_0_0_0_0_0_0_0', '2_1_1_2_5_1_5_1_0_0_0_0_0_0_0_0_0_0_0_0_0', '5_2_1_3_3_1_5_1_0_0_0_0_0_0_0_0_0_0_0_0_0', '2_2_1_2_1_1_1_1_0_0_0_0_0_0_0_0_0_0_0_0_0', '1_2_0_2_2_1_1_1_0_0_0_0_0_0_0_0_0_0_0_0_0', '5_2_1_1_5_1_1_0_0_0_0_0_0_0_0_0_0_0_0_0_0', '2_2_0_2_5_3_1_1_0_0_0_0_0_0_0_0_0_0_0_0_0', '3_4_0_3_5_1_1_1_0_0_0_0_0_0_0_0_0_0_0_0_0', '4_5_0_3_4_3_1_0_0_0_0_0_0_0_0_0_0_0_0_0_0', '5_1_0_2_2_1_1_0_0_0_0_0_0_0_0_0_0_0_0_0_0', '3_5_0_2_2_3_1_1_0_0_0_0_0_0_0_0_0_0_0_0_0', '3_4_0_3_5_3_5_1_0_0_0_0_0_0_0_0_0_0_0_0_0', '3_3_1_3_2_1_1_1_0_1_0_0_0_0_0_0_0_0_0_0_0', '4_3_0_1_2_3_1_0_0_0_0_0_0_0_0_0_0_0_0_0_0', '4_2_0_3_1_3_5_1_0_0_0_0_0_0_0_0_0_0_0_0_0', '5_4_1_3_5_1_1_1_0_0_0_0_0_1_0_0_0_0_0_0_0', '1_1_1_1_3_1_1_1_0_0_0_0_0_0_0_0_0_0_0_0_0', '5_2_1_2_3_1_5_1_0_0_0_0_0_0_0_0_0_0_0_0_0', '1_3_0_2_4_3_5_1_1_0_0_0_0_1_0_0_0_0_0_1_1', '5_2_1_2_3_1_1_1_0_0_0_0_0_0_0_0_0_0_0_0_0', '5_3_0_3_1_1_1_1_0_0_0_0_0_0_0_0_0_0_0_0_0', '3_1_0_1_1_3_1_1_0_1_0_0_0_0_0_0_0_0_0_0_0', '2_1_1_2_5_1_5_1_0_1_0_0_0_0_0_0_0_0_0_0_0', '3_2_1_1_3_1_1_1_0_0_0_0_0_0_0_0_0_0_0_0_0', '2_5_0_1_4_3_5_1_0_0_0_0_0_0_0_0_0_0_0_0_0', '1_5_1_1_5_1_1_0_0_0_0_0_0_0_0_0_0_0_0_0_0', '3_5_0_3_3_3_5_1_0_0_0_0_0_0_0_0_0_0_0_0_0', '2_2_1_3_3_1_1_0_0_0_0_0_0_0_0_0_0_0_0_0_0', '1_4_1_1_2_1_1_1_0_0_0_0_0_0_0_0_0_0_0_0_0', '3_4_0_1_5_1_1_1_0_0_0_0_0_0_0_0_0_0_0_0_0', '3_5_0_2_1_3_5_1_0_0_0_0_0_0_0_0_0_0_0_0_0', '2_3_0_1_3_3_1_1_0_0_0_0_0_1_0_0_0_0_0_0_0', '1_3_1_2_5_1_5_1_0_0_0_0_0_0_0_0_0_0_0_0_0', '2_3_0_2_5_3_1_0_0_0_0_0_0_0_0_0_0_0_0_0_0', '1_3_1_3_1_1_5_1_0_0_0_0_0_0_0_0_0_0_0_0_0', '1_1_0_1_1_1_1_1_0_0_0_0_0_0_0_0_0_0_0_0_0', '2_2_0_3_5_1_1_1_0_0_0_0_0_0_0_0_0_0_0_0_0', '1_5_1_3_2_1_1_1_0_1_0_0_0_0_0_0_0_0_0_0_0', '5_3_1_3_3_1_1_1_0_0_0_0_0_1_0_0_0_0_0_0_0', '1_2_1_3_4_1_5_1_0_0_0_0_0_0_0_0_0_0_0_0_0', '5_2_1_3_5_1_1_0_0_0_0_0_0_0_0_0_0_0_0_0_0', '3_1_0_3_5_3_1_1_0_0_0_0_0_0_0_0_0_0_0_0_0', '3_1_0_3_5_3_1_0_0_0_0_0_0_0_0_0_0_0_0_0_0', '4_4_1_3_2_1_1_0_0_0_0_0_0_0_0_0_0_0_0_0_0', '3_3_1_1_3_1_1_0_0_0_0_0_0_0_0_0_0_0_0_0_0', '2_2_1_2_3_1_1_0_0_0_0_0_0_0_0_0_0_0_0_0_0', '3_3_1_3_2_1_5_1_0_0_0_0_0_0_0_0_0_0_0_0_0', '4_4_1_3_1_1_1_1_0_0_0_0_0_1_0_0_0_0_0_0_0', '1_5_0_3_4_3_1_1_0_1_0_0_0_0_0_0_0_0_0_0_0', '5_2_0_2_5_3_1_0_0_0_0_0_0_0_0_0_0_0_0_0_0', '1_2_0_3_1_3_1_1_1_0_0_0_0_0_0_0_0_0_0_0_1', '3_5_0_3_2_3_5_1_0_0_0_0_0_0_0_0_0_0_0_0_0', '5_4_1_1_4_1_5_1_0_0_0_0_0_0_0_0_0_0_0_0_0', '5_4_1_1_4_1_1_1_0_0_0_0_0_0_0_0_0_0_0_0_0', '1_1_0_3_5_1_1_1_0_0_0_0_0_0_0_0_0_0_0_0_0', '3_3_0_3_4_3_1_1_1_0_0_0_0_0_0_0_0_0_0_0_0', '1_1_1_1_5_3_1_1_0_0_0_0_0_0_0_0_0_0_0_0_0', '5_5_0_1_2_3_1_1_1_0_0_0_0_0_0_0_0_0_0_0_0', '3_5_1_2_2_1_5_1_0_0_0_0_0_0_0_0_0_0_0_0_0', '5_2_0_1_1_3_1_1_0_0_0_0_0_0_0_0_0_0_0_0_0', '3_5_0_3_5_1_1_1_1_0_0_0_0_0_0_0_0_0_0_0_1', '1_3_1_1_1_1_1_1_0_0_0_0_0_0_0_0_0_0_0_0_0', '1_1_1_1_5_1_1_1_0_1_0_0_0_0_0_0_0_0_0_0_0', '1_3_1_1_1_1_1_1_0_0_0_0_0_0_0_0_0_0_0_0_1', '3_4_0_3_3_3_5_1_0_0_0_0_0_0_0_0_0_0_0_0_0', '4_4_0_3_5_3_1_1_1_0_0_0_0_1_0_0_0_0_0_0_1', '3_1_0_3_1_3_1_0_0_0_0_0_0_0_0_0_0_0_0_0_0', '2_4_1_3_3_1_1_0_0_0_0_0_0_0_0_0_0_0_0_0_0', '5_5_0_2_1_3_1_0_0_0_0_0_0_0_0_0_0_0_0_0_0', '3_3_1_2_4_1_1_1_1_0_0_0_0_0_0_0_1_0_0_0_0', '1_1_0_2_3_3_1_1_0_0_0_0_0_0_0_0_0_0_0_0_0', '1_2_0_3_5_1_1_1_0_0_0_0_0_0_0_0_0_0_0_0_0', '4_5_0_1_3_3_1_0_1_0_0_0_0_0_0_1_0_0_1_0_1', '5_5_1_3_2_1_1_1_0_0_0_0_0_0_0_0_0_0_0_0_0', '2_5_0_3_4_1_1_1_0_0_0_0_0_0_0_0_0_0_0_0_0', '5_2_1_1_5_1_1_1_0_1_0_0_0_0_0_0_0_0_0_0_0', '5_4_1_2_4_1_5_1_0_0_0_0_0_0_0_0_0_0_0_0_0', '4_1_0_2_5_3_1_1_0_0_0_0_0_0_0_0_0_0_0_0_0', '1_2_1_3_1_1_5_0_0_0_0_0_0_0_0_0_0_0_0_0_0', '4_3_0_3_5_3_1_1_1_0_0_0_0_0_0_0_0_0_0_0_1', '5_2_0_2_1_3_1_0_0_0_0_0_0_0_0_0_0_0_0_0_0', '3_3_1_1_5_1_1_1_0_1_0_0_0_0_0_0_0_0_0_0_0']\n"
     ]
    }
   ],
   "source": [
    "values_combined_label = df[\"combined_label\"].drop_duplicates().tolist()\n",
    "print(values_combined_label)"
   ]
  },
  {
   "cell_type": "code",
   "execution_count": 429,
   "metadata": {},
   "outputs": [
    {
     "name": "stdout",
     "output_type": "stream",
     "text": [
      "Fold 1\n",
      "Fold 2\n",
      "Fold 3\n",
      "Fold 4\n"
     ]
    }
   ],
   "source": [
    "\n",
    "features_stratify = features + [\"combined_label\"]\n",
    "X = df[features_stratify]\n",
    "y = df[outcome]\n",
    "\n",
    "\n",
    "X_train_list = []\n",
    "X_valid_list = []\n",
    "y_train_list = []\n",
    "y_valid_list = []\n",
    "\n",
    "sss = StratifiedShuffleSplit(n_splits=4, test_size=percentage_test,random_state=RANDOM_STATE_SPLIT )\n",
    "for fold, (train_index, valid_index) in enumerate(sss.split(X, X[\"combined_label\"])):\n",
    "    print(f\"Fold {fold+1}\")\n",
    "    X_train, X_valid = X.loc[train_index], X.loc[valid_index]\n",
    "    X_train_list.append(X_train)\n",
    "    X_valid_list.append(X_valid)\n",
    "    \n",
    "    y_train, y_valid = y.loc[train_index], y.loc[valid_index]\n",
    "    y_train_list.append(y_train)\n",
    "    y_valid_list.append(y_valid)\n",
    "    "
   ]
  },
  {
   "cell_type": "code",
   "execution_count": 430,
   "metadata": {},
   "outputs": [],
   "source": [
    "df= df.drop(columns=[\"combined_label\"], axis=1)"
   ]
  },
  {
   "cell_type": "code",
   "execution_count": 431,
   "metadata": {},
   "outputs": [],
   "source": [
    "n_fold = 1\n",
    "\n",
    "X_train = X_train_list[n_fold][features]\n",
    "y_train = y_train_list[n_fold] * weight\n",
    "\n",
    "X_val = X_valid_list[n_fold][features]\n",
    "y_val = y_valid_list[n_fold] * weight\n"
   ]
  },
  {
   "cell_type": "code",
   "execution_count": 432,
   "metadata": {},
   "outputs": [
    {
     "name": "stdout",
     "output_type": "stream",
     "text": [
      "Train mean_absolute_error  62.404254581500915\n",
      "Train simple model root mean_squared_error  86.2300349721737\n",
      "Train simple model R-squared (the coefficient of determination) 0.19692946897813646\n",
      "vaidation simple model mean_absolute_error  65.69543333832651\n",
      "vaidation simple model root mean_squared_error  92.33911301070323\n",
      "vaidation simple model R-squared (the coefficient of determination) 0.17846301251172791\n",
      "\n"
     ]
    },
    {
     "name": "stderr",
     "output_type": "stream",
     "text": [
      "/home/olha/.pyenv/versions/3.11.1/envs/copula/lib/python3.11/site-packages/sklearn/metrics/_regression.py:483: FutureWarning: 'squared' is deprecated in version 1.4 and will be removed in 1.6. To calculate the root mean squared error, use the function'root_mean_squared_error'.\n",
      "  warnings.warn(\n",
      "/home/olha/.pyenv/versions/3.11.1/envs/copula/lib/python3.11/site-packages/sklearn/metrics/_regression.py:483: FutureWarning: 'squared' is deprecated in version 1.4 and will be removed in 1.6. To calculate the root mean squared error, use the function'root_mean_squared_error'.\n",
      "  warnings.warn(\n"
     ]
    }
   ],
   "source": [
    "scaler_simple = StandardScaler()\n",
    "\n",
    "X_train_simple = X_train[simple_predictors]\n",
    "X_val_simple = X_val[simple_predictors]\n",
    "\n",
    "X_train_simple_scaled = scaler_simple.fit_transform(X_train_simple)\n",
    "X_val_simple_scaled = scaler_simple.transform(X_val_simple)\n",
    "\n",
    "model_simple = LinearRegression()\n",
    "model_simple.fit(X_train_simple_scaled, y_train)\n",
    "       \n",
    "y_simple_pred_train = model_simple.predict(X_train_simple_scaled)   \n",
    "\n",
    "mae_simple_tr = mean_absolute_error(y_train, y_simple_pred_train)\n",
    "mse_simple_tr = mean_squared_error(y_train, y_simple_pred_train)\n",
    "rmse_simple_tr = mean_squared_error(y_train, y_simple_pred_train, squared=False)  # RMSE is the square root of MSE\n",
    "r2_simple_tr = r2_score(y_train, y_simple_pred_train)\n",
    "\n",
    "validation_summary = f\"Train mean_absolute_error  { mae_simple_tr}\\n\" \n",
    "validation_summary += f\"Train simple model root mean_squared_error  {rmse_simple_tr}\\n\"\n",
    "validation_summary += f\"Train simple model R-squared (the coefficient of determination) {r2_simple_tr}\\n\"\n",
    "\n",
    "\n",
    " \n",
    "y_simple_pred_val = model_simple.predict(X_val_simple_scaled)\n",
    "\n",
    "mae_simple = mean_absolute_error(y_val, y_simple_pred_val)\n",
    "mse_simple = mean_squared_error(y_val, y_simple_pred_val)\n",
    "rmse_simple = mean_squared_error(y_val, y_simple_pred_val, squared=False)  # RMSE is the square root of MSE\n",
    "r2_simple = r2_score(y_val, y_simple_pred_val)\n",
    "   \n",
    "\n",
    "validation_summary += f\"vaidation simple model mean_absolute_error  { mae_simple}\\n\"\n",
    "validation_summary += f\"vaidation simple model root mean_squared_error  {rmse_simple}\\n\"\n",
    "validation_summary += f\"vaidation simple model R-squared (the coefficient of determination) {r2_simple}\\n\"\n",
    "    \n",
    "print(validation_summary)"
   ]
  },
  {
   "cell_type": "code",
   "execution_count": 433,
   "metadata": {},
   "outputs": [
    {
     "name": "stdout",
     "output_type": "stream",
     "text": [
      "train samples: 3168\n",
      "validation samples: 1057\n",
      "tr min snap_game_true_pos_rt_avrg.change.0.1: -735.0\n",
      "tr max snap_game_true_pos_rt_avrg.change.0.1: 851.0\n",
      "tr median snap_game_true_pos_rt_avrg.change.0.1: 7.0\n",
      "tr mean snap_game_true_pos_rt_avrg.change.0.1: 9.690887573964497\n"
     ]
    }
   ],
   "source": [
    "print(f'train samples: {len(X_train)}')\n",
    "print(f'validation samples: {len(X_val)}')\n",
    "min_ = df[outcome].min()\n",
    "max_ = df[outcome].max()\n",
    "median_ = df[outcome].median()\n",
    "mean_ = df[outcome].mean()\n",
    "print(f\"tr min {outcome}: {min_}\")\n",
    "print(f\"tr max {outcome}: {max_}\")\n",
    "print(f\"tr median {outcome}: {median_}\")\n",
    "print(f\"tr mean {outcome}: {mean_}\")"
   ]
  },
  {
   "cell_type": "code",
   "execution_count": 434,
   "metadata": {},
   "outputs": [],
   "source": [
    "if simple_lm_prior:\n",
    "    y_train =  y_train - y_simple_pred_train\n",
    "    y_valid =  y_valid - y_simple_pred_val"
   ]
  },
  {
   "cell_type": "code",
   "execution_count": 458,
   "metadata": {},
   "outputs": [],
   "source": [
    "# factors = risk_factors + metrics +diet + alc_drinks + others_cat +diagnoses + medications\n",
    "factors = risk_factors + metrics +diet + alc_drinks + others_cat +diagnoses + medications\n",
    "X_train_rest = X_train[factors ]\n",
    "X_val_rest = X_val[factors ]"
   ]
  },
  {
   "cell_type": "code",
   "execution_count": 459,
   "metadata": {},
   "outputs": [
    {
     "name": "stdout",
     "output_type": "stream",
     "text": [
      "Linear Regression Summary:\n",
      "==========================\n",
      "Intercept: -5.422532334986204e-15\n",
      "Coefficients: [ 2.50632416e+00 -4.71164869e-01 -9.44859040e-01 -1.81749935e+00\n",
      " -2.37811460e+00 -2.23726139e+00  1.37016313e+00 -4.79058570e-01\n",
      "  4.18330869e-01 -1.10055617e+00  2.66004269e+00 -2.55449280e+00\n",
      " -1.45424877e+00  1.70302296e+00  9.12827629e-01 -1.55325117e+00\n",
      "  1.76560784e+00 -8.32038429e-01  8.82736832e-01 -5.51948812e-01\n",
      " -1.83663397e+00 -1.26558166e+00 -6.72443745e-01  6.24327402e-01\n",
      "  4.90407515e-01 -1.28558070e+00 -1.20135167e+00 -1.48220968e+00\n",
      "  3.70586891e+00 -1.14190482e+00  1.44287833e+00 -2.74358576e+00\n",
      " -1.91568622e+00  1.13141808e+00 -2.26270691e+00 -2.70763776e-01\n",
      " -8.53112899e-01 -1.82270358e+00 -3.32811883e+00 -3.05432078e-01\n",
      "  1.40819262e+00 -3.33137745e-01  2.22044605e-16  4.32904971e-01\n",
      " -9.90544837e-01 -1.09297755e+00  3.90080885e+00 -2.66943785e+00\n",
      "  9.24953161e-01 -1.50884274e+00 -2.89713175e+00  2.20159376e+00\n",
      "  1.14694834e+00  1.58677875e+00]\n",
      "Mean Squared Error: 7305.883794976511\n",
      "R-squared: 0.017447792513899607\n"
     ]
    },
    {
     "name": "stderr",
     "output_type": "stream",
     "text": [
      "/home/olha/.pyenv/versions/3.11.1/envs/copula/lib/python3.11/site-packages/sklearn/metrics/_regression.py:483: FutureWarning: 'squared' is deprecated in version 1.4 and will be removed in 1.6. To calculate the root mean squared error, use the function'root_mean_squared_error'.\n",
      "  warnings.warn(\n"
     ]
    }
   ],
   "source": [
    "scaler_lm = StandardScaler()\n",
    "X_train_scaled = scaler_lm.fit_transform(X_train_rest)\n",
    "X_val_scaled = scaler_lm.transform(X_val_rest)\n",
    "    \n",
    "    # main model    \n",
    "lin_model = LinearRegression()\n",
    "lin_model.fit(X_train_scaled, y_train)\n",
    "    \n",
    "y_pred_train = lin_model.predict(X_train_scaled)\n",
    "y_pred_val = lin_model.predict(X_val_scaled)\n",
    "   \n",
    "mae = mean_absolute_error(y_valid, y_pred_val)\n",
    "mse = mean_squared_error(y_valid, y_pred_val)\n",
    "rmse = mean_squared_error(y_valid, y_pred_val, squared=False)  # RMSE is the square root of MSE\n",
    "r2 = r2_score(y_valid, y_pred_val)\n",
    "    \n",
    "validation_summary = f\"vaidation mean_absolute_error  { mae}\\n\"\n",
    "validation_summary += f\"vaidation root mean_squared_error  {rmse}\\n\"\n",
    "validation_summary += f\"vaidation R-squared (the coefficient of determination) {r2}\\n\"\n",
    "\n",
    "# Extract parameters\n",
    "intercept = lin_model.intercept_\n",
    "coefficients = lin_model.coef_\n",
    "\n",
    "# Calculate metrics\n",
    "mse_tr= mean_squared_error(y_train, y_pred_train)\n",
    "r2_tr = r2_score(y_train, y_pred_train)\n",
    "\n",
    "# Print summary\n",
    "print(\"Linear Regression Summary:\")\n",
    "print(\"==========================\")\n",
    "print(f\"Intercept: {intercept}\")\n",
    "print(f\"Coefficients: {coefficients}\")\n",
    "print(f\"Mean Squared Error: {mse_tr}\")\n",
    "print(f\"R-squared: {r2_tr}\")"
   ]
  },
  {
   "cell_type": "code",
   "execution_count": 460,
   "metadata": {},
   "outputs": [
    {
     "name": "stdout",
     "output_type": "stream",
     "text": [
      "vaidation mean_absolute_error  84.16139024540176\n",
      "vaidation root mean_squared_error  112.17948881593166\n",
      "vaidation R-squared (the coefficient of determination) -0.033918394723270184\n",
      "\n"
     ]
    }
   ],
   "source": [
    "print(validation_summary)"
   ]
  },
  {
   "cell_type": "code",
   "execution_count": 438,
   "metadata": {},
   "outputs": [
    {
     "name": "stdout",
     "output_type": "stream",
     "text": [
      "test median 2.0\n",
      "test r1 function: 0.0\n"
     ]
    }
   ],
   "source": [
    "def r1(y_pred, y_true, median_):\n",
    "    abs_error_pred = (np.abs(y_true - y_pred)).sum()\n",
    "    abs_error = (np.abs(y_true - median_)).sum()\n",
    "    r1 = 1 -abs_error_pred/abs_error\n",
    "    return r1\n",
    "\n",
    "y_tr = pd.Series([1,2,3])\n",
    "m_ = y_tr.median()\n",
    "print(f\"test median {m_}\")\n",
    "y_pr = pd.Series([m_, m_, m_]) # \n",
    "test = r1(y_pr, y_tr, m_)\n",
    "print(f\"test r1 function: {test}\")"
   ]
  },
  {
   "cell_type": "code",
   "execution_count": null,
   "metadata": {},
   "outputs": [],
   "source": []
  },
  {
   "cell_type": "code",
   "execution_count": 461,
   "metadata": {},
   "outputs": [],
   "source": [
    "m_smaples_split = 50\n",
    "m_samples_leaf = 25\n",
    "m_depth = 6\n"
   ]
  },
  {
   "cell_type": "code",
   "execution_count": 462,
   "metadata": {},
   "outputs": [
    {
     "name": "stdout",
     "output_type": "stream",
     "text": [
      "MAE train:\n",
      "\t: 60.7426\n",
      "MAE validation:\n",
      "\t: 74.5097\n",
      "RMSE train:\n",
      "\t: 83.0629\n",
      "RMSE validation:\n",
      "\t: 104.8068\n",
      "R1 train:\n",
      "\t: 0.0167\n",
      "R1 validation:\n",
      "\t: -0.0166\n",
      "R2 train:\n",
      "\t: -11.8678\n",
      "R2 validation:\n",
      "\t: -20.5782\n"
     ]
    }
   ],
   "source": [
    "specific_name = f\"{m_smaples_split}_{m_samples_leaf}_{m_depth}_{RANDOM_STATE_REGR}_fold_{n_fold}_glob_strata_{global_stratification}\"\n",
    "\n",
    "regressor = DecisionTreeRegressor(min_samples_leaf = m_samples_leaf,\n",
    "                                  min_samples_split =  m_smaples_split,\n",
    "                                  max_depth = m_depth,\n",
    "                                  random_state = RANDOM_STATE_REGR)\n",
    "\n",
    "'''\n",
    "if linear_regress_before_tree: # we need to standartise because we have standartised the simple ones\n",
    "    scaler = StandardScaler()\n",
    "    X_train = scaler.fit_transform(X_train)\n",
    "    X_val = scaler.transform(X_val)\n",
    "'''\n",
    "\n",
    "regression_tree_model = regressor.fit(X_train,y_train)\n",
    "\n",
    "print(f\"MAE train:\\n\\t: {mean_absolute_error(regression_tree_model.predict(X_train),y_train):.4f}\")\n",
    "print(f\"MAE validation:\\n\\t: {mean_absolute_error(regression_tree_model.predict(X_val),y_val):.4f}\")\n",
    "print(f\"RMSE train:\\n\\t: {np.sqrt(mean_squared_error(regression_tree_model.predict(X_train),y_train)):.4f}\")\n",
    "print(f\"RMSE validation:\\n\\t: {np.sqrt(mean_squared_error(regression_tree_model.predict(X_val),y_val)):.4f}\")\n",
    "print(f\"R1 train:\\n\\t: {r1(regression_tree_model.predict(X_train),y_train,median_):.4f}\")\n",
    "print(f\"R1 validation:\\n\\t: {r1(regression_tree_model.predict(X_val),y_val, median_):.4f}\")\n",
    "print(f\"R2 train:\\n\\t: {r2_score(regression_tree_model.predict(X_train),y_train):.4f}\")\n",
    "print(f\"R2 validation:\\n\\t: {r2_score(regression_tree_model.predict(X_val),y_val):.4f}\")\n"
   ]
  },
  {
   "cell_type": "code",
   "execution_count": 463,
   "metadata": {},
   "outputs": [
    {
     "name": "stdout",
     "output_type": "stream",
     "text": [
      "MAE VAL train:\n",
      "\t: 75.6179\n",
      "MAE VAL validation:\n",
      "\t: 62.0502\n",
      "RMSE VAL train:\n",
      "\t: 101.3223\n",
      "RMSE VAL validation:\n",
      "\t: 87.2560\n",
      "R1 VAL train:\n",
      "\t: -0.2240\n",
      "R1 VAL validation:\n",
      "\t: 0.1534\n",
      "R2 VAL train:\n",
      "\t: -2.7693\n",
      "R2 VAL validation:\n",
      "\t: -1.7535\n"
     ]
    }
   ],
   "source": [
    "specific_name_val = f\"{m_smaples_split}_{m_samples_leaf}_{m_depth}_{RANDOM_STATE_REGR}_fold_{n_fold}__glob_strata_{global_stratification}_valid\"\n",
    "\n",
    "regressor_val= DecisionTreeRegressor(min_samples_leaf = m_samples_leaf,\n",
    "                                  min_samples_split =  m_smaples_split,\n",
    "                                  max_depth = m_depth,\n",
    "                                  random_state = RANDOM_STATE_REGR)\n",
    "regression_tree_model_val = regressor_val.fit(X_val,y_val)\n",
    "\n",
    "print(f\"MAE VAL train:\\n\\t: {mean_absolute_error(regression_tree_model_val.predict(X_train),y_train):.4f}\")\n",
    "print(f\"MAE VAL validation:\\n\\t: {mean_absolute_error(regression_tree_model_val.predict(X_val),y_val):.4f}\")\n",
    "print(f\"RMSE VAL train:\\n\\t: {np.sqrt(mean_squared_error(regression_tree_model_val.predict(X_train),y_train)):.4f}\")\n",
    "print(f\"RMSE VAL validation:\\n\\t: {np.sqrt(mean_squared_error(regression_tree_model_val.predict(X_val),y_val)):.4f}\")\n",
    "print(f\"R1 VAL train:\\n\\t: {r1(regression_tree_model_val.predict(X_train),y_train,median_):.4f}\")\n",
    "print(f\"R1 VAL validation:\\n\\t: {r1(regression_tree_model_val.predict(X_val),y_val, median_):.4f}\")\n",
    "print(f\"R2 VAL train:\\n\\t: {r2_score(regression_tree_model_val.predict(X_train),y_train):.4f}\")\n",
    "print(f\"R2 VAL validation:\\n\\t: {r2_score(regression_tree_model_val.predict(X_val),y_val):.4f}\")"
   ]
  },
  {
   "cell_type": "code",
   "execution_count": null,
   "metadata": {},
   "outputs": [],
   "source": []
  },
  {
   "cell_type": "code",
   "execution_count": 464,
   "metadata": {},
   "outputs": [],
   "source": [
    "def show_importances(tree_model,name):\n",
    "    \n",
    "\n",
    "    # Retrieve the feature importances\n",
    "    importances = tree_model.feature_importances_\n",
    "\n",
    "    # Print the feature importances\n",
    "    important_features = []\n",
    "    important_importances = []\n",
    "    df_importances = pd.DataFrame()\n",
    "\n",
    "    for feature_name, importance in zip(features, importances):\n",
    "        if importance > 0:\n",
    "            important_features.append(feature_name)\n",
    "            important_importances.append(importance)\n",
    "            new_row = {'feature': feature_name, 'importance': importance}\n",
    "            new_row_df = pd.DataFrame([new_row])\n",
    "            df_importances = pd.concat([df_importances, new_row_df], ignore_index=True)\n",
    "            \n",
    "    print(df_importances)       \n",
    "    df_importances.to_csv(f\"{output_dir}/feature_importance_{m_smaples_split}_{m_samples_leaf}_{specific_name}.csv\", sep =\",\")\n",
    "    # Visualize the feature importances\n",
    "    plt.figure(figsize=(10, 10))\n",
    "    plt.barh(important_features, important_importances, align='center')\n",
    "    plt.xlabel(\"Feature Importance\")\n",
    "    plt.ylabel(\"Feature\")\n",
    "    plt.title(f\"Feature Importances in DecisionTreeRegressor {name}\")\n",
    "    file_path = os.path.join(output_dir, 'feature_importances.png')\n",
    "    plt.savefig(file_path)\n",
    "    plt.show()\n"
   ]
  },
  {
   "cell_type": "code",
   "execution_count": 443,
   "metadata": {},
   "outputs": [
    {
     "name": "stdout",
     "output_type": "stream",
     "text": [
      "                        feature  importance\n",
      "0       log_time_difference.0.1    0.110581\n",
      "1                   age_years.0    0.107126\n",
      "2  snap_game_true_pos_rt_avrg.0    0.221161\n",
      "3                 spirits_gpd.0    0.072772\n",
      "4                     Syst_bp.0    0.039464\n",
      "5                    ldl_conv.0    0.046194\n",
      "6                    hdl_conv.0    0.079274\n",
      "7                  HbA1c_conv.0    0.212928\n",
      "8             Leukocyte_count.0    0.043830\n",
      "9          C_reactive_protein.0    0.066671\n"
     ]
    },
    {
     "data": {
      "image/png": "[encoded data removed]",
      "text/plain": [
       "<Figure size 1000x1000 with 1 Axes>"
      ]
     },
     "metadata": {},
     "output_type": "display_data"
    }
   ],
   "source": [
    "show_importances(regression_tree_model, specific_name)"
   ]
  },
  {
   "cell_type": "code",
   "execution_count": 444,
   "metadata": {},
   "outputs": [
    {
     "name": "stdout",
     "output_type": "stream",
     "text": [
      "                        feature  importance\n",
      "0                   age_years.0    0.053593\n",
      "1  snap_game_true_pos_rt_avrg.0    0.774551\n",
      "2                   bmi_kg_m2.0    0.022947\n",
      "3                     Syst_bp.0    0.024455\n",
      "4                    Diast_bp.0    0.111440\n",
      "5           vitamins_minerals.0    0.013014\n"
     ]
    },
    {
     "data": {
      "image/png": "[encoded data removed]",
      "text/plain": [
       "<Figure size 1000x1000 with 1 Axes>"
      ]
     },
     "metadata": {},
     "output_type": "display_data"
    }
   ],
   "source": [
    "show_importances(regression_tree_model_val, specific_name_val)"
   ]
  },
  {
   "cell_type": "code",
   "execution_count": 445,
   "metadata": {},
   "outputs": [],
   "source": [
    "def show_tree(regrsr, ft, name):\n",
    "# adjusting colors\n",
    "    values = regrsr.tree_.value.flatten()\n",
    "    # Normalize the values for coloring\n",
    "    norm = plt.Normalize(values.min(), values.max())\n",
    "    # Create a custom color map (green to red)\n",
    "    cmap = mcolors.LinearSegmentedColormap.from_list(\"GreenYellowRed\", [\"red\", \"yellow\", \"green\"])\n",
    "\n",
    "    # Generate colors for each node based on the normalized values and the custom color map\n",
    "    colors = cmap(norm(values))\n",
    "\n",
    "    dot_data_1 = export_graphviz(regrsr,  out_file=None, filled=True, rounded=True, special_characters=True,\n",
    "                            feature_names=ft,\n",
    "                            proportion=True)\n",
    "\n",
    "\n",
    "    # Split the DOT data into lines\n",
    "    dot_lines = dot_data_1.splitlines()\n",
    "    hex_color_pattern = r'fillcolor=\"#[0-9a-fA-F]{6}\"'\n",
    "\n",
    "    # Modify the DOT file lines to include custom colors\n",
    "    new_dot_lines = []\n",
    "    for line in dot_lines:\n",
    "        if 'fillcolor' in line:\n",
    "            parts = line.split()\n",
    "            if parts[0].isdigit():\n",
    "                node_id = int(parts[0])\n",
    "                # Get corresponding color\n",
    "                color = mcolors.to_hex(colors[node_id])\n",
    "                # Modify the line to include the color\n",
    "                line = re.sub(hex_color_pattern, f'fillcolor=\"{color}\"', line)\n",
    "        new_dot_lines.append(line)\n",
    "\n",
    "    # Combine the modified lines back into a single string\n",
    "    new_dot_data = \"\\n\".join(new_dot_lines)\n",
    "\n",
    "    # Render the DOT file with Graphviz\n",
    "    graph = graphviz.Source(new_dot_data)\n",
    "    graph.render(f\"tree_{name}_{outcome}\", format='png')\n",
    "    graph.render(f\"{output_dir}/tree_{name}_{outcome}\", format='png')\n",
    "    graph.view()"
   ]
  },
  {
   "cell_type": "code",
   "execution_count": 446,
   "metadata": {},
   "outputs": [],
   "source": [
    "show_tree(regressor, features, specific_name)"
   ]
  },
  {
   "cell_type": "code",
   "execution_count": 447,
   "metadata": {},
   "outputs": [
    {
     "name": "stderr",
     "output_type": "stream",
     "text": [
      "Error: no \"view\" mailcap rules found for type \"application/pdf\"\n",
      "WARNING: You don't seem to have any mimeinfo.cache files.\n",
      "Try running the update-desktop-database command. If you\n",
      "don't have this command you should install the\n",
      "desktop-file-utils package. This package is available from\n",
      "http://freedesktop.org/wiki/Software/desktop-file-utils/\n",
      "Can't call method \"get_value\" on an undefined value at /usr/bin/mimeopen line 159.\n",
      "Error: no \"view\" mailcap rules found for type \"application/pdf\"\n",
      "WARNING: You don't seem to have any mimeinfo.cache files.\n",
      "Try running the update-desktop-database command. If you\n",
      "don't have this command you should install the\n",
      "desktop-file-utils package. This package is available from\n",
      "http://freedesktop.org/wiki/Software/desktop-file-utils/\n",
      "Can't call method \"get_value\" on an undefined value at /usr/bin/mimeopen line 159.\n"
     ]
    }
   ],
   "source": [
    "show_tree(regressor_val, features, specific_name_val)"
   ]
  },
  {
   "cell_type": "code",
   "execution_count": null,
   "metadata": {},
   "outputs": [],
   "source": []
  }
 ],
 "metadata": {
  "kernelspec": {
   "display_name": "copula",
   "language": "python",
   "name": "python3"
  },
  "language_info": {
   "codemirror_mode": {
    "name": "ipython",
    "version": 3
   },
   "file_extension": ".py",
   "mimetype": "text/x-python",
   "name": "python",
   "nbconvert_exporter": "python",
   "pygments_lexer": "ipython3",
   "version": "3.11.1"
  }
 },
 "nbformat": 4,
 "nbformat_minor": 2
}
